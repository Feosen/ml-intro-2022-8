{
 "cells": [
  {
   "cell_type": "markdown",
   "metadata": {
    "pycharm": {
     "name": "#%% md\n"
    }
   },
   "source": [
    "Each task that is proposed to be completed as part of the homework has a declared \"price\" in points. The maximum possible amount is 10 points, and together with the bonus assignment - 12 points. It is not necessary to complete all the tasks, only a part can be done. Most of the points expect you to write working Python code; sometimes you will need to write comments - for example, to compare several approaches to solve the same problem. Also you can add more cells for your convenience if you need."
   ]
  },
  {
   "cell_type": "markdown",
   "metadata": {
    "pycharm": {
     "name": "#%% md\n"
    }
   },
   "source": [
    "This homework focuses on clustering. We will work with images of handwritten digits, learn how to cluster them using two different methods (hierarchical clustering and the 𝐾-means algorithm), evaluate the quality of the partition and choose the optimal number of clusters, as well as visualize intermediate results."
   ]
  },
  {
   "cell_type": "markdown",
   "metadata": {
    "pycharm": {
     "name": "#%% md\n"
    }
   },
   "source": [
    "## 1. Loading data\n",
    "The data we will be working with is available in the scikit-learn library (`sklearn` module) in the `datasets` submodule via the `load_digits` function. The data contains 1,797 observations, each of which is 8×8 pixel image of a handwritten digit from 0 to 9. This is about the same amount of each digit (about 180).\n",
    "\n",
    "For convenience, every image expands to a 64 (8×8) row, so entire numpy array is 1797×64. The color intensity in each pixel is encoded with an integer from 0 to 16.\n",
    "\n",
    "In addition to images, their labels are also known. In this task, we will assume that the labels (as well as their amount) are unknown and try to group the data in such a way that the resulting clusters 'better match' the original ones. Possible options for determining the 'better match' are presented later."
   ]
  },
  {
   "cell_type": "markdown",
   "metadata": {
    "pycharm": {
     "name": "#%% md\n"
    }
   },
   "source": [
    "**(0.25 points)** Load the images into `X` variable, and their labels into `y` variable."
   ]
  },
  {
   "cell_type": "code",
   "execution_count": 1,
   "metadata": {
    "pycharm": {
     "name": "#%%\n"
    }
   },
   "outputs": [],
   "source": [
    "import numpy as np\n",
    "from matplotlib import pyplot as plt\n",
    "from sklearn.datasets import load_digits\n",
    "import seaborn as sns"
   ]
  },
  {
   "cell_type": "code",
   "execution_count": 2,
   "outputs": [],
   "source": [
    "X, y = load_digits(n_class=10, return_X_y=True)"
   ],
   "metadata": {
    "collapsed": false,
    "pycharm": {
     "name": "#%%\n"
    }
   }
  },
  {
   "cell_type": "code",
   "execution_count": 3,
   "metadata": {
    "pycharm": {
     "name": "#%%\n"
    }
   },
   "outputs": [],
   "source": [
    "assert X.shape == (1797, 64)\n",
    "assert y.shape == (1797,)"
   ]
  },
  {
   "cell_type": "markdown",
   "source": [
    "Не вижу смысла делать тот же StandardScaler для данных, поскольку они представляют собой точки изображений и их диапазон строго определён и одинаков для всех."
   ],
   "metadata": {
    "collapsed": false,
    "pycharm": {
     "name": "#%% md\n"
    }
   }
  },
  {
   "cell_type": "markdown",
   "metadata": {
    "pycharm": {
     "name": "#%% md\n"
    }
   },
   "source": [
    "**(0.5 points)** Visualize the first 10 images.\n",
    "\n",
    "- Arrange images on a grid rather than in a row. You may need the `subplot` and `imshow` functions from the `pyplot` module in the `matplotlib` library.\n",
    "- You will also need to reshape the images to 8×8.\n",
    "- Remove ticks and labels from both axes. The `xticks` and `yticks` functions or the `tick_params` function from `pyplot` can help you with this.\n",
    "- Make the output good sized with the `figure` function from `pyplot`."
   ]
  },
  {
   "cell_type": "code",
   "execution_count": 4,
   "metadata": {
    "pycharm": {
     "name": "#%%\n"
    }
   },
   "outputs": [
    {
     "data": {
      "text/plain": "<Figure size 720x360 with 10 Axes>",
      "image/png": "[encoded data removed]"
     },
     "metadata": {},
     "output_type": "display_data"
    }
   ],
   "source": [
    "def show_clusters(X, y):\n",
    "    _, axes = plt.subplots(nrows=2, ncols=5, figsize=(10, 5))\n",
    "    for ax, image, label in zip(axes.flatten(), X, y):\n",
    "        ax.set_axis_off()\n",
    "        ax.imshow(image.reshape((8, 8)))\n",
    "        ax.set_title(label)\n",
    "\n",
    "show_clusters(X, y)"
   ]
  },
  {
   "cell_type": "markdown",
   "metadata": {
    "pycharm": {
     "name": "#%% md\n"
    }
   },
   "source": [
    "## 2. Clustering and quality evaluation"
   ]
  },
  {
   "cell_type": "markdown",
   "metadata": {
    "pycharm": {
     "name": "#%% md\n"
    }
   },
   "source": [
    "**(2 points)** Implement the the KMeans algorithm. Use objective function $L = \\sum_{i=1}^{n}|x_{i}-Z_{A(x_{i})}|^{2}$, where $Z_{A(x_{i})}$ is the center of the cluster corresponding to $x_{i}$ object."
   ]
  },
  {
   "cell_type": "code",
   "execution_count": 5,
   "metadata": {
    "pycharm": {
     "name": "#%%\n"
    }
   },
   "outputs": [],
   "source": [
    "from sklearn.exceptions import NotFittedError\n",
    "from numpy.random import RandomState\n"
   ]
  },
  {
   "cell_type": "code",
   "execution_count": 6,
   "metadata": {
    "pycharm": {
     "name": "#%%\n"
    }
   },
   "outputs": [],
   "source": [
    "class CustomKMeans:\n",
    "    def __init__(self, n_clusters=2, max_iter=300, n_init=10, random_state=42):\n",
    "        \"\"\"K-Means clustering.\n",
    "        \n",
    "        Args:\n",
    "            n_clusters: int, default=2\n",
    "                The number of clusters to be formed is also \n",
    "                the number of centroids to generate. \n",
    "            max_iter: int, default=300\n",
    "                Maximum number of iterations of the k-means algorithm for a\n",
    "                single run.\n",
    "            n_init: int, default=10\n",
    "                Number of time the k-means algorithm will be run with different\n",
    "                centroid seeds. The final results will be the best output of\n",
    "                n_init consecutive runs in terms of objective function.\n",
    "            random_state: int, default=42\n",
    "                Random state.\n",
    "        \"\"\"\n",
    "        self.n_clusters = n_clusters\n",
    "        self.n_init = n_init\n",
    "        self.max_iter = max_iter\n",
    "        self.random_state = RandomState(seed=random_state)\n",
    "        \n",
    "    def calculate_distances_to_centroids(self, X, cluster_centers):\n",
    "        \"\"\"\n",
    "        Returns (n, c) matrix where the element at position (i, j) \n",
    "        is the distance from i-th object to j-th centroid.\"\"\"\n",
    "        assert self.n_clusters == cluster_centers.shape[0]\n",
    "\n",
    "        dist = np.zeros((X.shape[0], self.n_clusters))\n",
    "        for j, c in enumerate(cluster_centers):\n",
    "            dist[:, j] = np.linalg.norm(X - c, axis=1)\n",
    "        return dist\n",
    "    \n",
    "    def update_centroids(self, X, nearest_clusters):\n",
    "        \"\"\"\n",
    "        Returns numpy array of shape (n_clusters, n_features) - \n",
    "        new clusters that are found by averaging objects belonging \n",
    "        to the corresponding cluster.\"\"\"\n",
    "        assert X.shape[0] == nearest_clusters.shape[0]\n",
    "\n",
    "        centroids = np.zeros((self.n_clusters, X.shape[1]))\n",
    "        for i in range(self.n_clusters):\n",
    "            x = X[nearest_clusters == i]\n",
    "            if x.size > 0:\n",
    "                centroids[i, :] = x.mean(0)\n",
    "        return centroids\n",
    "        \n",
    "    def fit(self, X):\n",
    "        \"\"\"Fit the model.\n",
    "        \n",
    "        Args:\n",
    "            X: numpy array of shape (n_samples, n_features)\n",
    "        \"\"\"\n",
    "        assert X.shape[0] >= self.n_clusters\n",
    "        assert 0 < self.max_iter\n",
    "\n",
    "        ls = np.zeros(self.n_init)\n",
    "        cc = np.zeros((self.n_init, self.n_clusters, X.shape[1]))\n",
    "        self.max_iter_ = 0\n",
    "        for n in range(self.n_init):\n",
    "            prev_nearest_clusters = None\n",
    "            cluster_centers = X[self.random_state.randint(0, X.shape[0] + 1, self.n_clusters)]\n",
    "            for i in range(self.max_iter):\n",
    "                nearest_clusters = self.calculate_distances_to_centroids(X, cluster_centers).argmin(1)\n",
    "                if prev_nearest_clusters is not None and np.array_equal(prev_nearest_clusters, nearest_clusters):\n",
    "                    if self.max_iter_ < i:\n",
    "                        self.max_iter_ = i\n",
    "                    break\n",
    "                cluster_centers = self.update_centroids(X, nearest_clusters)\n",
    "                prev_nearest_clusters = nearest_clusters\n",
    "\n",
    "            cc[n, :, :] = cluster_centers\n",
    "            for i, c in enumerate(cluster_centers):\n",
    "                dx = X[nearest_clusters == i] - c\n",
    "                if dx.size > 0:\n",
    "                    ls[n] += np.linalg.norm(dx)\n",
    "        self.best_objective_ = ls.min()\n",
    "        self.cluster_centers_ = cc[ls.argmin(), :]\n",
    "        return self\n",
    "            \n",
    "    \n",
    "    def predict(self, X):\n",
    "        \"\"\"Predict classes.\n",
    "        \n",
    "        Args:\n",
    "            X: numpy array of shape (n_samples, n_features)\n",
    "        Returns:\n",
    "            y: numpy array of shape (n_samples,)\n",
    "                Vector containing predicted cluster labels.\n",
    "        \"\"\"\n",
    "        if hasattr(self, 'cluster_centers_'):\n",
    "            return self.calculate_distances_to_centroids(X, self.cluster_centers_).argmin(1)\n",
    "        else: \n",
    "            raise NotFittedError(\"CustomKMeans instance is not fitted yet\")"
   ]
  },
  {
   "cell_type": "code",
   "execution_count": 7,
   "outputs": [],
   "source": [
    "from sklearn.metrics import pairwise_distances\n",
    "\n",
    "ckm = CustomKMeans(n_clusters=10)\n",
    "assert np.allclose(ckm.calculate_distances_to_centroids(X, X[:10]), pairwise_distances(X, X[:10], n_jobs=-1))"
   ],
   "metadata": {
    "collapsed": false,
    "pycharm": {
     "name": "#%%\n"
    }
   }
  },
  {
   "cell_type": "markdown",
   "metadata": {
    "pycharm": {
     "name": "#%% md\n"
    }
   },
   "source": [
    "**(1 points)** Get the `X` array partition into 10 clusters. Visualize the centers of clusters.\n",
    "- We will assume that the center of the cluster is average value of all observations belonging to the cluster.\n",
    "- The cluster centers should have the same shape as our observations (64). So you have to average the points across the rows."
   ]
  },
  {
   "cell_type": "code",
   "execution_count": 8,
   "metadata": {
    "pycharm": {
     "name": "#%%\n"
    }
   },
   "outputs": [],
   "source": [
    "def calc_centers(X, y, n):\n",
    "    centers = np.zeros(X.shape)\n",
    "    for i in range(n):\n",
    "        x_ = X[y == i]\n",
    "        if x_.size > 0:\n",
    "            centers[i, :] = x_.mean(0)\n",
    "    return centers"
   ]
  },
  {
   "cell_type": "code",
   "execution_count": 9,
   "outputs": [],
   "source": [
    "ckm = CustomKMeans(n_clusters=10)\n",
    "ckm.fit(X)\n",
    "custom_kmeans_labels = ckm.predict(X)\n",
    "assert custom_kmeans_labels.shape == (1797,)"
   ],
   "metadata": {
    "collapsed": false,
    "pycharm": {
     "name": "#%%\n"
    }
   }
  },
  {
   "cell_type": "code",
   "execution_count": 10,
   "outputs": [
    {
     "data": {
      "text/plain": "<Figure size 720x360 with 10 Axes>",
      "image/png": "[encoded data removed]"
     },
     "metadata": {},
     "output_type": "display_data"
    }
   ],
   "source": [
    "clusters = calc_centers(X, custom_kmeans_labels, 10)\n",
    "show_clusters(clusters, range(10))"
   ],
   "metadata": {
    "collapsed": false,
    "pycharm": {
     "name": "#%%\n"
    }
   }
  },
  {
   "cell_type": "markdown",
   "source": [
    "Оценим точность (любопытство): поскольку обозначение кластеров может не совпадать с библиотечным, нужен \"переводчик\", ведь здесь именно кластеризация, не классификация и алгоритм (а часто - и программист) не имеет доступа к правильным меткам кластеров (и правильному числу кластеров тоже)."
   ],
   "metadata": {
    "collapsed": false,
    "pycharm": {
     "name": "#%% md\n"
    }
   }
  },
  {
   "cell_type": "code",
   "execution_count": 11,
   "outputs": [],
   "source": [
    "def decode_cluster_numbers(y_pred, y_target):\n",
    "    assert 0 == len(set(y_pred) - set(y_target))\n",
    "    assert y_pred.shape == y_target.shape\n",
    "\n",
    "    clusters = np.unique(y_target)\n",
    "    label_map = {}\n",
    "    reverse_label_map = {}\n",
    "    for c in clusters:\n",
    "        y_pred_c = y_pred[y_target==c]\n",
    "        values, counts = np.unique(y_pred_c, return_counts=True)\n",
    "        label = values[counts.argmax()]\n",
    "        label_map[label] = c\n",
    "        reverse_label_map[c] = label\n",
    "    y_trans = np.zeros(y_pred.shape, dtype=np.int32)\n",
    "    for c_pred, c_target in label_map.items():\n",
    "        y_trans[y_pred == c_pred] = c_target\n",
    "    return y_trans, label_map, reverse_label_map"
   ],
   "metadata": {
    "collapsed": false,
    "pycharm": {
     "name": "#%%\n"
    }
   }
  },
  {
   "cell_type": "code",
   "execution_count": 12,
   "outputs": [
    {
     "name": "stdout",
     "output_type": "stream",
     "text": [
      "[1 1 1 3 3 2 2] {1: 1, 3: 2, 2: 3} {1: 1, 2: 3, 3: 2}\n"
     ]
    }
   ],
   "source": [
    "y_pred   = np.array([1, 1, 1, 2, 2, 3, 3])\n",
    "y_target = np.array([1, 1, 3, 3, 3, 2, 2])\n",
    "t, l, r = decode_cluster_numbers(y_pred, y_target)\n",
    "print(t, l, r)\n",
    "assert np.array_equal(np.array([1, 1, 1, 3, 3, 2, 2]), t)"
   ],
   "metadata": {
    "collapsed": false,
    "pycharm": {
     "name": "#%%\n"
    }
   }
  },
  {
   "cell_type": "code",
   "execution_count": 13,
   "outputs": [
    {
     "name": "stdout",
     "output_type": "stream",
     "text": [
      "accuracy 0.69 {7: 0, 4: 8, 3: 2, 6: 3, 1: 4, 5: 9, 2: 6, 8: 7} {0: 7, 1: 4, 2: 3, 3: 6, 4: 1, 5: 5, 6: 2, 7: 8, 8: 4, 9: 5}\n",
      "target 0, pred 0 (99%), 4 (1%)\n",
      "target 1, pred 8 (54%), 4 (24%), 2 (13%), 9 (6%), 6 (1%), 3 (1%), 7 (1%)\n",
      "target 2, pred 2 (83%), 3 (7%), 7 (5%), 8 (3%), 9 (1%), 0 (1%)\n",
      "target 3, pred 3 (87%), 8 (7%), 9 (4%), 7 (2%), 2 (1%)\n",
      "target 4, pred 4 (92%), 7 (5%), 8 (3%), 0 (1%)\n",
      "target 5, pred 9 (49%), 8 (48%), 6 (2%), 4 (1%), 7 (1%)\n",
      "target 6, pred 6 (97%), 8 (1%), 4 (1%), 0 (1%)\n",
      "target 7, pred 7 (96%), 8 (4%)\n",
      "target 8, pred 8 (60%), 9 (32%), 7 (2%), 3 (2%), 6 (2%), 4 (2%), 2 (1%)\n",
      "target 9, pred 9 (79%), 4 (7%), 3 (6%), 7 (4%), 8 (3%)\n"
     ]
    }
   ],
   "source": [
    "from sklearn.metrics import accuracy_score\n",
    "\n",
    "def show_accuracy(y_pred, y):\n",
    "    y_pred_tr, lm, rlm = decode_cluster_numbers(y_pred, y)\n",
    "    print(f'accuracy {accuracy_score(y_pred=y_pred_tr, y_true=y):.2f}', lm, rlm)\n",
    "    clusters = np.unique(y)\n",
    "    clusters.sort()\n",
    "    for c in clusters:\n",
    "        _s = y_pred_tr[y==c]\n",
    "        values, counts = np.unique(_s, return_counts=True)\n",
    "        st = list(zip(counts/_s.size*100, values))\n",
    "        st.sort(reverse=True)\n",
    "        print(f'target {c}, pred {\", \".join(f\"{s[1]} ({s[0]:.0f}%)\" for s in st)}')\n",
    "\n",
    "show_accuracy(custom_kmeans_labels, y)"
   ],
   "metadata": {
    "collapsed": false,
    "pycharm": {
     "name": "#%%\n"
    }
   }
  },
  {
   "cell_type": "markdown",
   "source": [
    "Видно, что кластеры в алгоритме недостаточно хорошо разделены и 1 в 54% случаев распознаётся как 8, 5 путается либо с 9 либо с 8..."
   ],
   "metadata": {
    "collapsed": false,
    "pycharm": {
     "name": "#%% md\n"
    }
   }
  },
  {
   "cell_type": "markdown",
   "metadata": {
    "pycharm": {
     "name": "#%% md\n"
    }
   },
   "source": [
    "**(0.5 points)** Experiment with `max_iter` and `n_init` parameters. Look at the range of values of the objective function, it's best values, at what parameters and how often they are achieved.\n",
    "\n",
    "ВНИМАНИЕ: на лекции разрешили использовать библиотечный KMeans - беру его, т.к. он точно быстрее."
   ]
  },
  {
   "cell_type": "code",
   "execution_count": 14,
   "metadata": {
    "pycharm": {
     "name": "#%%\n"
    }
   },
   "outputs": [],
   "source": [
    "from sklearn.cluster import KMeans\n",
    "\n",
    "n_init_space = np.linspace(10, 30, 21, dtype=np.int16)\n",
    "max_iter_space = np.linspace(10, 100, 10, dtype=np.int16)\n",
    "inertia = np.zeros((n_init_space.size, max_iter_space.size))\n",
    "n_iter = np.zeros(inertia.shape, dtype=np.int16)\n",
    "for i, n_init in enumerate(n_init_space):\n",
    "    for j, max_iter in enumerate(max_iter_space):\n",
    "        # Использую init=random, т.к. это в идеале даст тот же результат, что и написанный в предыдущем пункте CustomKMeans\n",
    "        c = KMeans(n_clusters=10, n_init=n_init, max_iter=max_iter, random_state=42, init=\"random\")\n",
    "        c.fit(X)\n",
    "        inertia[i, j] = c.inertia_\n",
    "        n_iter[i, j] = c.n_iter_\n"
   ]
  },
  {
   "cell_type": "code",
   "execution_count": 15,
   "outputs": [],
   "source": [
    "# Большая таблица!\n",
    "# inertia"
   ],
   "metadata": {
    "collapsed": false,
    "pycharm": {
     "name": "#%%\n"
    }
   }
  },
  {
   "cell_type": "code",
   "execution_count": 16,
   "outputs": [
    {
     "data": {
      "text/plain": "<Figure size 720x720 with 2 Axes>",
      "image/png": "[encoded data removed]"
     },
     "metadata": {},
     "output_type": "display_data"
    }
   ],
   "source": [
    "plt.figure(figsize=(10, 10))\n",
    "sns.heatmap(inertia, xticklabels=max_iter_space, yticklabels=n_init_space, linewidths=0.005, annot=True)\n",
    "plt.xlabel('n_init')\n",
    "plt.ylabel('max_iter')\n",
    "plt.show()"
   ],
   "metadata": {
    "collapsed": false,
    "pycharm": {
     "name": "#%%\n"
    }
   }
  },
  {
   "cell_type": "code",
   "execution_count": 17,
   "outputs": [
    {
     "name": "stdout",
     "output_type": "stream",
     "text": [
      "Лучшее значение целевой функции 1165188.9623497338 в 1.43% сочетаний параметров.\n"
     ]
    }
   ],
   "source": [
    "min_inertia = inertia.min()\n",
    "print(f'Лучшее значение целевой функции {min_inertia} в {inertia[inertia==min_inertia].size / inertia.size * 100:.2f}% сочетаний параметров.')\n"
   ],
   "metadata": {
    "collapsed": false,
    "pycharm": {
     "name": "#%%\n"
    }
   }
  },
  {
   "cell_type": "code",
   "execution_count": 18,
   "outputs": [
    {
     "name": "stdout",
     "output_type": "stream",
     "text": [
      "n_init 20, max_iter 80, n_iter 23\n"
     ]
    }
   ],
   "source": [
    "for a, b in zip(*np.where(inertia==min_inertia)):\n",
    "    print(f'n_init {n_init_space[a]}, max_iter {max_iter_space[b]}, n_iter {n_iter[a, b]}')\n",
    "    # Иногда большая таблица, поэтому прерываю после первой итерации.\n",
    "    break"
   ],
   "metadata": {
    "collapsed": false,
    "pycharm": {
     "name": "#%%\n"
    }
   }
  },
  {
   "cell_type": "markdown",
   "source": [
    "Количество затраченных итераций n_iter во всех случаях лучшего (минимального) значения целевой функции меньше max_iter, n_init так же не максимальны. Следовательно, при достаточно больших n_iter и max_iter всё определяется удачностью выбора начальных центров кластеров."
   ],
   "metadata": {
    "collapsed": false,
    "pycharm": {
     "name": "#%% md\n"
    }
   }
  },
  {
   "cell_type": "code",
   "execution_count": 19,
   "outputs": [],
   "source": [
    "# Большая таблица!\n",
    "# n_iter"
   ],
   "metadata": {
    "collapsed": false,
    "pycharm": {
     "name": "#%%\n"
    }
   }
  },
  {
   "cell_type": "code",
   "execution_count": 20,
   "outputs": [
    {
     "data": {
      "text/plain": "<Figure size 720x720 with 2 Axes>",
      "image/png": "[encoded data removed]"
     },
     "metadata": {},
     "output_type": "display_data"
    }
   ],
   "source": [
    "plt.figure(figsize=(10, 10))\n",
    "sns.heatmap(n_iter, xticklabels=max_iter_space, yticklabels=n_init_space, linewidths=0.005, annot=True)\n",
    "plt.xlabel('n_init')\n",
    "plt.ylabel('max_iter')\n",
    "plt.show()"
   ],
   "metadata": {
    "collapsed": false,
    "pycharm": {
     "name": "#%%\n"
    }
   }
  },
  {
   "cell_type": "code",
   "execution_count": 21,
   "outputs": [
    {
     "name": "stdout",
     "output_type": "stream",
     "text": [
      "Минимальное число итераций 10 в 10.00% сочетаний параметров.\n"
     ]
    }
   ],
   "source": [
    "min_n_iter = n_iter.min()\n",
    "print(f'Минимальное число итераций {min_n_iter} в {n_iter[n_iter==min_n_iter].size / n_iter.size * 100:.2f}% сочетаний параметров.')"
   ],
   "metadata": {
    "collapsed": false,
    "pycharm": {
     "name": "#%%\n"
    }
   }
  },
  {
   "cell_type": "code",
   "execution_count": 22,
   "outputs": [
    {
     "name": "stdout",
     "output_type": "stream",
     "text": [
      "n_init 10, max_iter 10, inertia 1166483.865684952 (0.11%)\n"
     ]
    }
   ],
   "source": [
    "for a, b in zip(*np.where(n_iter==min_n_iter)):\n",
    "   print(f'n_init {n_init_space[a]}, max_iter {max_iter_space[b]}, inertia {inertia[a, b]} ({(inertia[a, b] - min_inertia) / min_inertia * 100:.2f}%)')\n",
    "   # Иногда большая таблица, поэтому прерываю после первой итерации.\n",
    "   break"
   ],
   "metadata": {
    "collapsed": false,
    "pycharm": {
     "name": "#%%\n"
    }
   }
  },
  {
   "cell_type": "markdown",
   "source": [
    "Выбранное самое быстрое сочетание параметров лишь на 0.11% хуже с точки зрения минимума целевой функции."
   ],
   "metadata": {
    "collapsed": false,
    "pycharm": {
     "name": "#%% md\n"
    }
   }
  },
  {
   "cell_type": "markdown",
   "metadata": {
    "pycharm": {
     "name": "#%% md\n"
    }
   },
   "source": [
    "Now we will use two popular algorithms: hierarchical clustering and $K$-means clustering. These and other algorithms are available in the `scikit-learn` module in the `cluster` submodule. Hierarchical clustering is called `AgglomerativeClustering`, and the $K$-means method is called `KMeans`.\n",
    "\n",
    "**(0.5 points)** Use each of the two methods: hierarchical clustering and KMeans. Get the `X` array partition into 10 clusters.\n",
    "\n",
    "- Note that `AgglomerativeClustering` does not have a `predict` method, so you can either use the `fit_predict` method or use the `fit` method and then look at the `labels_` attribute of the class instance.\n",
    "- Kmeans performs multiple runs (default 10) with random centers and then returns the best partition in terms of average distance within the clusters. You can increase the number of runs to improve the quality of predictions in the `i_init` parameter."
   ]
  },
  {
   "cell_type": "code",
   "execution_count": 23,
   "metadata": {
    "pycharm": {
     "name": "#%%\n"
    }
   },
   "outputs": [],
   "source": [
    "from sklearn.cluster import AgglomerativeClustering\n",
    "\n",
    "ac = AgglomerativeClustering(n_clusters=10)\n",
    "ac.fit(X)\n",
    "hierarchical_labels = ac.labels_\n",
    "\n",
    "km = KMeans(n_clusters=10, n_init=30, random_state=42)\n",
    "km.fit(X)\n",
    "kmeans_labels = km.labels_"
   ]
  },
  {
   "cell_type": "code",
   "execution_count": 24,
   "metadata": {
    "pycharm": {
     "name": "#%%\n"
    }
   },
   "outputs": [],
   "source": [
    "assert hierarchical_labels.shape == (1797,)\n",
    "assert kmeans_labels.shape == (1797,)"
   ]
  },
  {
   "cell_type": "markdown",
   "metadata": {
    "pycharm": {
     "name": "#%% md\n"
    }
   },
   "source": [
    "**(0.5 points)** Visualize the centers of clusters obtained by both methods."
   ]
  },
  {
   "cell_type": "code",
   "execution_count": 25,
   "metadata": {
    "pycharm": {
     "name": "#%%\n"
    }
   },
   "outputs": [
    {
     "name": "stdout",
     "output_type": "stream",
     "text": [
      "hierarchical\n"
     ]
    },
    {
     "data": {
      "text/plain": "<Figure size 720x360 with 10 Axes>",
      "image/png": "[encoded data removed]"
     },
     "metadata": {},
     "output_type": "display_data"
    }
   ],
   "source": [
    "ac_centers = calc_centers(X, hierarchical_labels, 10)\n",
    "print(\"hierarchical\")\n",
    "show_clusters(ac_centers, range(10))"
   ]
  },
  {
   "cell_type": "code",
   "execution_count": 26,
   "outputs": [
    {
     "name": "stdout",
     "output_type": "stream",
     "text": [
      "accuracy 0.82 {7: 0, 9: 1, 2: 2, 1: 9, 5: 4, 0: 5, 6: 6, 3: 7, 4: 8} {0: 7, 1: 9, 2: 2, 3: 1, 4: 5, 5: 0, 6: 6, 7: 3, 8: 4, 9: 1}\n",
      "target 0, pred 0 (100%)\n",
      "target 1, pred 1 (53%), 0 (32%), 2 (15%)\n",
      "target 2, pred 2 (94%), 8 (6%), 7 (1%)\n",
      "target 3, pred 9 (92%), 8 (7%), 7 (1%)\n",
      "target 4, pred 4 (98%), 7 (2%)\n",
      "target 5, pred 5 (98%), 9 (1%), 6 (1%)\n",
      "target 6, pred 6 (99%), 8 (1%)\n",
      "target 7, pred 7 (100%)\n",
      "target 8, pred 8 (95%), 2 (2%), 1 (1%), 9 (1%), 7 (1%), 0 (1%)\n",
      "target 9, pred 9 (81%), 0 (11%), 7 (6%), 8 (1%), 5 (1%)\n"
     ]
    }
   ],
   "source": [
    "show_accuracy(hierarchical_labels, y)"
   ],
   "metadata": {
    "collapsed": false,
    "pycharm": {
     "name": "#%%\n"
    }
   }
  },
  {
   "cell_type": "code",
   "execution_count": 27,
   "outputs": [
    {
     "name": "stdout",
     "output_type": "stream",
     "text": [
      "kmeans\n"
     ]
    },
    {
     "data": {
      "text/plain": "<Figure size 720x360 with 10 Axes>",
      "image/png": "[encoded data removed]"
     },
     "metadata": {},
     "output_type": "display_data"
    }
   ],
   "source": [
    "km_centers = calc_centers(X, kmeans_labels, 10)\n",
    "print(\"kmeans\")\n",
    "show_clusters(km_centers, range(10))"
   ],
   "metadata": {
    "collapsed": false,
    "pycharm": {
     "name": "#%%\n"
    }
   }
  },
  {
   "cell_type": "code",
   "execution_count": 28,
   "outputs": [
    {
     "name": "stdout",
     "output_type": "stream",
     "text": [
      "accuracy 0.76 {4: 0, 1: 8, 5: 2, 9: 3, 7: 4, 8: 5, 2: 6, 3: 7, 6: 9} {0: 4, 1: 1, 2: 5, 3: 9, 4: 7, 5: 8, 6: 2, 7: 3, 8: 1, 9: 6}\n",
      "target 0, pred 0 (99%), 4 (1%)\n",
      "target 1, pred 8 (54%), 0 (30%), 2 (13%), 6 (1%), 5 (1%), 3 (1%)\n",
      "target 2, pred 2 (84%), 3 (7%), 8 (5%), 7 (2%), 0 (2%), 9 (1%)\n",
      "target 3, pred 3 (85%), 9 (7%), 8 (4%), 7 (4%), 5 (1%)\n",
      "target 4, pred 4 (90%), 7 (6%), 0 (4%), 8 (1%)\n",
      "target 5, pred 5 (75%), 9 (23%), 4 (1%), 3 (1%), 6 (1%)\n",
      "target 6, pred 6 (98%), 8 (1%), 0 (1%)\n",
      "target 7, pred 7 (97%), 8 (1%), 0 (1%), 5 (1%)\n",
      "target 8, pred 8 (59%), 9 (29%), 0 (3%), 7 (3%), 5 (2%), 2 (2%), 6 (1%), 3 (1%)\n",
      "target 9, pred 9 (77%), 0 (11%), 7 (4%), 5 (3%), 3 (3%), 8 (1%)\n"
     ]
    }
   ],
   "source": [
    "show_accuracy(kmeans_labels, y)"
   ],
   "metadata": {
    "collapsed": false,
    "pycharm": {
     "name": "#%%\n"
    }
   }
  },
  {
   "cell_type": "markdown",
   "metadata": {
    "pycharm": {
     "name": "#%% md\n"
    }
   },
   "source": [
    "In a situation where the true number of classes is unknown, we can select it by maximazing some metric.\n",
    "\n",
    "When we can set some distance function between our observations, we can consider the `silhouette` distance as a function of measuring the quality of the clustering. Let's show how it is calculated:"
   ]
  },
  {
   "cell_type": "markdown",
   "metadata": {
    "pycharm": {
     "name": "#%% md\n"
    }
   },
   "source": [
    "Let $X$ – set of observations, $M \\subset X$ – one of the clusters obtained as a result of clustering process, $\\rho$ – some metric on $X$. Let's choose one observation $x \\in M$. Denote $a(x)$ as the average distance from $x$ to  $x'$ points from the same cluster:\n",
    "$$\n",
    "a(x) = \\frac{1}{|M| - 1} \\sum_{x' \\in M,\\, x' \\ne x} \\rho(x,\\, x')\n",
    "$$\n",
    "\n",
    "Denote $b(x)$ as minimun of average distances from $x$ to $x''$ from some other cluster $N$:\n",
    "$$\n",
    "b(x) = \\min_{N \\ne M} \\frac{1}{|N|} \\sum_{x'' \\in N} \\rho(x,\\, x'')\n",
    "$$\n",
    "\n",
    "The silhouette is difference between a(x) and b(x), normalized to $[-1, \\, 1]$ and averaged over all observations:\n",
    "$$\n",
    "\\frac{1}{|X|} \\sum_{x \\in X} \\frac{b(x) - a(x)}{\\max(a(x),\\, b(x))}\n",
    "$$\n",
    "\n",
    "The implementation of this metric in the `scikit-learn` is the `silhouette_score` function from the `metrics` submidule."
   ]
  },
  {
   "cell_type": "markdown",
   "metadata": {
    "collapsed": true,
    "pycharm": {
     "name": "#%% md\n"
    }
   },
   "source": [
    "**(0.75 point)** For each $K$ between 2 and 20 inclusive, partition of the array $X$ into $K$ clusters using both methods. Calculate the silhouette score and visualize it for both methods on the same plot ($K$ on the $x$ axis and silhouette score on the $y$ axis). Sign the axes and make a legend."
   ]
  },
  {
   "cell_type": "code",
   "execution_count": 29,
   "metadata": {
    "pycharm": {
     "name": "#%%\n"
    }
   },
   "outputs": [],
   "source": [
    "from sklearn.metrics import silhouette_score\n",
    "\n",
    "ac_score = np.zeros(19)\n",
    "km_score = np.zeros(19)\n",
    "k_space = np.linspace(2, 20, 19, dtype=np.int32)\n",
    "for i, k in enumerate(k_space):\n",
    "    ac = AgglomerativeClustering(n_clusters=k)\n",
    "    ac.fit(X)\n",
    "    ac_score[i] = silhouette_score(X, ac.labels_)\n",
    "\n",
    "    km = KMeans(n_clusters=k, n_init=30, random_state=42)\n",
    "    km.fit(X)\n",
    "    km_score[i] = silhouette_score(X, km.labels_)\n"
   ]
  },
  {
   "cell_type": "code",
   "execution_count": 30,
   "outputs": [
    {
     "data": {
      "text/plain": "<Figure size 432x288 with 1 Axes>",
      "image/png": "[encoded data removed]"
     },
     "metadata": {},
     "output_type": "display_data"
    }
   ],
   "source": [
    "plt.plot(k_space, ac_score, label='AgglomerativeClustering')\n",
    "plt.plot(k_space, km_score, label='KMeans')\n",
    "plt.xlabel('number of clusters')\n",
    "plt.ylabel('silhouette_score')\n",
    "plt.legend();"
   ],
   "metadata": {
    "collapsed": false,
    "pycharm": {
     "name": "#%%\n"
    }
   }
  },
  {
   "cell_type": "markdown",
   "source": [
    "Выраженный пик на десяти кластерах."
   ],
   "metadata": {
    "collapsed": false,
    "pycharm": {
     "name": "#%% md\n"
    }
   }
  },
  {
   "cell_type": "markdown",
   "metadata": {
    "pycharm": {
     "name": "#%% md\n"
    }
   },
   "source": [
    "When we know the true clustering labels, the clustering result can be compared to them using measures such as `homogeneity`, `completeness` and their harmonic mean - $V$-score. The definitions of these quantities are rather bulky and are based on the [entropy of the probability distribution](https://ru.wikipedia.org/wiki/Информационная_энтропия). Details are given in [this article](http://aclweb.org/anthology/D/D07/D07-1043.pdf). In practice, it's enough to know that `homogeneity`, `completeness` and $V$-score are in the range from 0 and 1, and the more, the better.\n",
    "\n",
    "Since we know what digit each image is (`y` array), we can compare the clustering results to it using the measures listed above."
   ]
  },
  {
   "cell_type": "markdown",
   "metadata": {
    "pycharm": {
     "name": "#%% md\n"
    }
   },
   "source": [
    "**(0.5 points)** Repeat the previous task using $V$-measure instead of silhouette."
   ]
  },
  {
   "cell_type": "code",
   "execution_count": 31,
   "metadata": {
    "pycharm": {
     "name": "#%%\n"
    }
   },
   "outputs": [],
   "source": [
    "from sklearn.metrics import homogeneity_completeness_v_measure\n",
    "\n",
    "raw_ac_v_score = np.zeros((19, 3))\n",
    "raw_km_v_score = np.zeros((19, 3))\n",
    "k_space = np.linspace(2, 20, 19, dtype=np.int32)\n",
    "for i, k in enumerate(k_space):\n",
    "    ac = AgglomerativeClustering(n_clusters=k)\n",
    "    ac.fit(X)\n",
    "    raw_ac_v_score[i] = homogeneity_completeness_v_measure(y, ac.labels_)\n",
    "\n",
    "    km = KMeans(n_clusters=k, n_init=30, random_state=42)\n",
    "    km.fit(X)\n",
    "    raw_km_v_score[i] = homogeneity_completeness_v_measure(y, km.labels_)"
   ]
  },
  {
   "cell_type": "code",
   "execution_count": 32,
   "outputs": [
    {
     "data": {
      "text/plain": "<Figure size 720x360 with 1 Axes>",
      "image/png": "[encoded data removed]"
     },
     "metadata": {},
     "output_type": "display_data"
    }
   ],
   "source": [
    "plt.figure(figsize=(10,5))\n",
    "#plt.plot(k_space, ac_v_score, label=['AC H', 'AC C', 'AC V'])\n",
    "#plt.plot(k_space, km_v_score, label=['KM H', 'KM C', 'KM V'])\n",
    "plt.plot(k_space, raw_ac_v_score[:,2], label='AC V')\n",
    "plt.plot(k_space, raw_km_v_score[:,2], label='KM V')\n",
    "plt.xlabel('number of clusters')\n",
    "plt.ylabel('metrics')\n",
    "plt.legend();"
   ],
   "metadata": {
    "collapsed": false,
    "pycharm": {
     "name": "#%%\n"
    }
   }
  },
  {
   "cell_type": "markdown",
   "metadata": {
    "pycharm": {
     "name": "#%% md\n"
    }
   },
   "source": [
    "## 3. Feature space dimensionality reduction\n",
    "\n",
    "In some cases, especially when there are a large number of features, when not all of them are informative, and some of them are correlated, it can be useful to reduce the dimension of the feature space. This mean that instead of $d$ original features, we will go to $d'\\ll d$ new ones. And if earlier our data were presented in the form of an $n×d$ matrix, then it will presented as a $n×d'$.\n",
    "\n",
    "There are two popular dimensionality reduction approaches:\n",
    "- select new features from existing features;\n",
    "- extract the new features by transforming old ones, for example, by making $d'$ different linear combinations of columns of an $n×d$ matrix.\n",
    "\n",
    "One widely used dimensionality reduction technique is the Singular Value Decomposition (SVD). This method allows you to construct any number $d'\\leq d$ of new features in such a way that they are the most informative (in some sense).\n",
    "\n",
    "The `scikit-learn` module has several implementations of singular value decomposition. We will use the `TruncatedSVD` class from the `decomposition` submodule.\n",
    "\n",
    "**Note:** The singular value decomposition of the matrix $M$ is usually written as $M=U \\Sigma V^{*}$. `TruncatedSVD`, in turn, returns only the $d'$ first columns of the matrix $U$."
   ]
  },
  {
   "cell_type": "markdown",
   "metadata": {
    "pycharm": {
     "name": "#%% md\n"
    }
   },
   "source": [
    "**(0.75 point)** Perform a singular value decomposition of the $X$ matrix, leaving 2, 5, 10, 20 features. In each case, perform hierarchical clustering and $K$-Means clustering (take the number of clusters equal to 10). Calculate the silhouette and $V$-score and compare them to corresponding values obtained from the original data.\n",
    "\n",
    "**Note**: It is not valid to compare the silhouette calculated with different metrics. Even if we use the same metric function when calculating the distance between points in the data, after applying dimensionality reduction or other data transformations, we will (not always) get different silhouette scores. Therefore, after training the clustering algorithm, to compare the result of clustering, you need to calculate the silhouette on the original data."
   ]
  },
  {
   "cell_type": "code",
   "execution_count": 33,
   "metadata": {
    "pycharm": {
     "name": "#%%\n"
    }
   },
   "outputs": [],
   "source": [
    "from sklearn.decomposition import TruncatedSVD\n",
    "\n",
    "n_components = np.array([2, 5, 10, 20])\n",
    "red_ac_v_score = np.zeros(n_components.shape)\n",
    "red_ac_silhouette_score = np.zeros(n_components.shape)\n",
    "red_km_v_score = np.zeros(n_components.shape)\n",
    "red_km_silhouette_score = np.zeros(n_components.shape)\n",
    "\n",
    "for i, nc in enumerate(n_components):\n",
    "    Xr = TruncatedSVD(n_components=nc, n_iter=10, random_state=42).fit_transform(X)\n",
    "    ac = AgglomerativeClustering(n_clusters=10)\n",
    "    ac.fit(Xr)\n",
    "    red_ac_v_score[i] = homogeneity_completeness_v_measure(y, ac.labels_)[2]\n",
    "    red_ac_silhouette_score[i] = silhouette_score(X, ac.labels_)\n",
    "\n",
    "    km = KMeans(n_clusters=10, n_init=10, random_state=42)\n",
    "    km.fit(Xr)\n",
    "    red_km_v_score[i] = homogeneity_completeness_v_measure(y, km.labels_)[2]\n",
    "    red_km_silhouette_score[i] = silhouette_score(X, km.labels_)"
   ]
  },
  {
   "cell_type": "code",
   "execution_count": 34,
   "outputs": [
    {
     "data": {
      "text/plain": "<Figure size 720x360 with 1 Axes>",
      "image/png": "[encoded data removed]"
     },
     "metadata": {},
     "output_type": "display_data"
    }
   ],
   "source": [
    "plt.figure(figsize=(10,5))\n",
    "plt.plot(n_components, red_ac_v_score, label='AC V')\n",
    "plt.plot(n_components, red_km_v_score, label='KM V')\n",
    "plt.plot(n_components, red_ac_silhouette_score, label='AC Silhouette')\n",
    "plt.plot(n_components, red_km_silhouette_score, label='KM Silhouette')\n",
    "plt.xlabel('number of components')\n",
    "plt.ylabel('metrics')\n",
    "plt.legend();"
   ],
   "metadata": {
    "collapsed": false,
    "pycharm": {
     "name": "#%%\n"
    }
   }
  },
  {
   "cell_type": "markdown",
   "metadata": {
    "pycharm": {
     "name": "#%% md\n"
    }
   },
   "source": [
    "Another popular dimensionality reduction approach that is useful for working with images is t-distributed stochastic neighbor embeddings, abbreviated `tSNE`. Unlike singular value decomposition, this it is non-linear transformation. It's main idea is to map points from a space of dimension `d` to another space of dimension 2 or 3 in such a way that the distances between points are mostly preserved. Mathematical details can be found, for example, [here](https://en.wikipedia.org/wiki/T-distributed_stochastic_neighbor_embedding).\n",
    "\n",
    "The implementation of `tSNE` in the `scikit-learn` library is the `TSNE` class in the `manifold` submodule.\n",
    "\n",
    "**Note:** In recent years [UMAP](https://github.com/lmcinnes/umap) is often used istead of `tSNE`. It is a faster algorithm with similar properties. We don't ask you to use `UMAP` because it requires you to install another dependency, the `umap-learn` library. Those who wish can perform the following task using `UMAP`."
   ]
  },
  {
   "cell_type": "markdown",
   "metadata": {
    "pycharm": {
     "name": "#%% md\n"
    }
   },
   "source": [
    "**(0.5 points)** Perform a tSNE-transform of the `X` matrix, leaving 2 features. Visualize the obtained data in the form of a scatter plot form: the first feature on the horizontal axis, and the second one the vertical axis. Color the points according to the digits they belong to.\n",
    "\n",
    "- The `c` parameter in the plt.scatter function is responsible for the color of the points. Pass the true labels to it."
   ]
  },
  {
   "cell_type": "code",
   "execution_count": 35,
   "metadata": {
    "pycharm": {
     "name": "#%%\n"
    }
   },
   "outputs": [
    {
     "name": "stderr",
     "output_type": "stream",
     "text": [
      "G:\\Programming\\ML\\ml-intro-2022-8\\venv\\lib\\site-packages\\sklearn\\manifold\\_t_sne.py:780: FutureWarning: The default initialization in TSNE will change from 'random' to 'pca' in 1.2.\n",
      "  warnings.warn(\n",
      "G:\\Programming\\ML\\ml-intro-2022-8\\venv\\lib\\site-packages\\sklearn\\manifold\\_t_sne.py:790: FutureWarning: The default learning rate in TSNE will change from 200.0 to 'auto' in 1.2.\n",
      "  warnings.warn(\n"
     ]
    }
   ],
   "source": [
    "from sklearn.manifold import TSNE\n",
    "\n",
    "X_tsne = TSNE(n_components=2).fit_transform(X)"
   ]
  },
  {
   "cell_type": "code",
   "execution_count": 36,
   "outputs": [
    {
     "data": {
      "text/plain": "<matplotlib.legend.Legend at 0x15d545de9e0>"
     },
     "execution_count": 36,
     "metadata": {},
     "output_type": "execute_result"
    },
    {
     "data": {
      "text/plain": "<Figure size 432x288 with 1 Axes>",
      "image/png": "[encoded data removed]"
     },
     "metadata": {},
     "output_type": "display_data"
    }
   ],
   "source": [
    "fig, ax = plt.subplots()\n",
    "scatter = ax.scatter(x=X_tsne[:,0], y=X_tsne[:, 1], c=y)\n",
    "legend = ax.legend(*scatter.legend_elements(num=10))\n",
    "ax.add_artist(legend)"
   ],
   "metadata": {
    "collapsed": false,
    "pycharm": {
     "name": "#%%\n"
    }
   }
  },
  {
   "cell_type": "markdown",
   "metadata": {
    "pycharm": {
     "name": "#%% md\n"
    }
   },
   "source": [
    "**(0.5 points)** From the data transformed using the tSNE, perform hierarchical clustering and $K$-means clustering (take the number of clusters equal to 10). Calculate the silhouette and the $V$-score and compare them to corresponding values obtained from the original data."
   ]
  },
  {
   "cell_type": "code",
   "execution_count": 37,
   "metadata": {
    "pycharm": {
     "name": "#%%\n"
    }
   },
   "outputs": [],
   "source": [
    "raw_ac = AgglomerativeClustering(n_clusters=10)\n",
    "raw_ac.fit(X)\n",
    "raw_ac_v_score = homogeneity_completeness_v_measure(y, raw_ac.labels_)[2]\n",
    "raw_ac_silhouette_score = silhouette_score(X, raw_ac.labels_)\n",
    "\n",
    "raw_km = KMeans(n_clusters=10, n_init=10, random_state=42)\n",
    "raw_km.fit(X)\n",
    "raw_km_v_score = homogeneity_completeness_v_measure(y, raw_km.labels_)[2]\n",
    "raw_km_silhouette_score = silhouette_score(X, raw_km.labels_)\n",
    "\n",
    "tsne_ac = AgglomerativeClustering(n_clusters=10)\n",
    "tsne_ac.fit(X_tsne)\n",
    "tsne_ac_v_score = homogeneity_completeness_v_measure(y, tsne_ac.labels_)[2]\n",
    "tsne_ac_silhouette_score = silhouette_score(X, tsne_ac.labels_)\n",
    "\n",
    "tsne_km = KMeans(n_clusters=10, n_init=10, random_state=42)\n",
    "tsne_km.fit(X_tsne)\n",
    "tsne_km_v_score = homogeneity_completeness_v_measure(y, tsne_km.labels_)[2]\n",
    "tsne_km_silhouette_score = silhouette_score(X, tsne_km.labels_)"
   ]
  },
  {
   "cell_type": "code",
   "execution_count": 38,
   "outputs": [
    {
     "name": "stdout",
     "output_type": "stream",
     "text": [
      "raw AC V-score 0.86817 Silhouette 0.17850\n",
      "raw KM V-score 0.74147 Silhouette 0.18244\n",
      "TSNE AC V-score 0.92362 Silhouette 0.16378\n",
      "TSNE KM V-score 0.91054 Silhouette 0.16304\n"
     ]
    }
   ],
   "source": [
    "data = (('raw', 'AC', raw_ac_v_score, raw_ac_silhouette_score), ('raw', 'KM', raw_km_v_score, raw_km_silhouette_score),\n",
    "        ('TSNE', 'AC', tsne_ac_v_score, tsne_ac_silhouette_score), ('TSNE', 'KM', tsne_km_v_score, tsne_km_silhouette_score))\n",
    "for t, r, v_s, s_s in data:\n",
    "    print(f'{t} {r} V-score {v_s:.5f} Silhouette {s_s:.5f}')"
   ],
   "metadata": {
    "collapsed": false,
    "pycharm": {
     "name": "#%%\n"
    }
   }
  },
  {
   "cell_type": "markdown",
   "source": [
    "Силуэт после tSNE ухудшился, V-score - улучшился."
   ],
   "metadata": {
    "collapsed": false,
    "pycharm": {
     "name": "#%% md\n"
    }
   }
  },
  {
   "cell_type": "markdown",
   "metadata": {
    "pycharm": {
     "name": "#%% md\n"
    }
   },
   "source": [
    "**(0.25 points)** Choose the best partition (in terms of silhouette or $V$-score) and visualize the centers of clusters with images. Did you managed to make each digit correspond to one center of the cluster?"
   ]
  },
  {
   "cell_type": "markdown",
   "source": [
    "По V-score лучший результат у hierarchical после tSNE, визуализация по оригинальным данным."
   ],
   "metadata": {
    "collapsed": false,
    "pycharm": {
     "name": "#%% md\n"
    }
   }
  },
  {
   "cell_type": "code",
   "execution_count": 39,
   "metadata": {
    "pycharm": {
     "name": "#%%\n"
    }
   },
   "outputs": [
    {
     "data": {
      "text/plain": "<Figure size 720x360 with 10 Axes>",
      "image/png": "[encoded data removed]"
     },
     "metadata": {},
     "output_type": "display_data"
    }
   ],
   "source": [
    "show_clusters(calc_centers(X, tsne_ac.labels_, 10), range(10))"
   ]
  },
  {
   "cell_type": "code",
   "execution_count": 40,
   "outputs": [
    {
     "name": "stdout",
     "output_type": "stream",
     "text": [
      "accuracy 0.94 {0: 0, 1: 1, 3: 2, 8: 3, 4: 4, 7: 5, 5: 6, 6: 7, 9: 8, 2: 9} {0: 0, 1: 1, 2: 3, 3: 8, 4: 4, 5: 7, 6: 5, 7: 6, 8: 9, 9: 2}\n",
      "target 0, pred 0 (100%)\n",
      "target 1, pred 1 (75%), 2 (15%), 8 (10%)\n",
      "target 2, pred 2 (94%), 8 (6%)\n",
      "target 3, pred 3 (98%), 5 (1%), 7 (1%)\n",
      "target 4, pred 4 (98%), 7 (2%)\n",
      "target 5, pred 5 (99%), 9 (1%)\n",
      "target 6, pred 6 (99%), 8 (1%)\n",
      "target 7, pred 7 (100%)\n",
      "target 8, pred 8 (98%), 1 (2%)\n",
      "target 9, pred 9 (79%), 1 (13%), 7 (4%), 8 (1%), 5 (1%), 3 (1%)\n"
     ]
    }
   ],
   "source": [
    "show_accuracy(tsne_km.labels_, y)"
   ],
   "metadata": {
    "collapsed": false,
    "pycharm": {
     "name": "#%%\n"
    }
   }
  },
  {
   "cell_type": "markdown",
   "source": [
    "Результаты кластеризации прекрасные."
   ],
   "metadata": {
    "collapsed": false,
    "pycharm": {
     "name": "#%% md\n"
    }
   }
  },
  {
   "cell_type": "markdown",
   "metadata": {
    "pycharm": {
     "name": "#%% md\n"
    }
   },
   "source": [
    "## 4. Results and bonus part"
   ]
  },
  {
   "cell_type": "markdown",
   "metadata": {
    "pycharm": {
     "name": "#%% md\n"
    }
   },
   "source": [
    "Write in free form what conclusions you made after completing this assignment. Answer the following questions:\n",
    "\n",
    "**(0.5 points)** Which algorithm gives more meaningful results - hierarchical clustering or $K$- means clustering. Does it depend on the algorithm settings or on the quality evaluation method?"
   ]
  },
  {
   "cell_type": "markdown",
   "source": [
    "Для данной задачи лучшие результаты показала иерархическая кластеризация (однако считать этот алгоритм всегда лучше будет некорректно, поскольку на кластерах другой формы он может показать худшие результаты или при намного бОльших размерностях данных - оказаться неподъёмным для имеющихся вычислительных машин даже после пртменения методов снижения размерности). Результаты KMeans очень сильно зависят от начальных точек."
   ],
   "metadata": {
    "collapsed": false,
    "pycharm": {
     "name": "#%% md\n"
    }
   }
  },
  {
   "cell_type": "markdown",
   "metadata": {
    "pycharm": {
     "name": "#%% md\n"
    }
   },
   "source": [
    "**(0.5 points)** Imagine the situation where after hierarchical clustering, you need to cluster new data in the same way without retraining the model. Suggest a method how you will do it and how you will measure the quality of clustering of new data."
   ]
  },
  {
   "cell_type": "markdown",
   "source": [
    "Если у меня уже есть набор кластеров и я не готов выполнять кластеризацию для нового набора с нуля, то перое, что приходит на ум - отнести каждую точку в новых данных к ближайшему к ней известному кластеру. В качестве метрики можно использовать силуэт, сравнив его значения для исходной модели и с новыми данными."
   ],
   "metadata": {
    "collapsed": false,
    "pycharm": {
     "name": "#%% md\n"
    }
   }
  },
  {
   "cell_type": "markdown",
   "metadata": {
    "collapsed": true,
    "pycharm": {
     "name": "#%% md\n"
    }
   },
   "source": [
    "**(0.5 points)** Does dimensionality reduction improve clustering results?"
   ]
  },
  {
   "cell_type": "markdown",
   "source": [
    "Да, для данной задачи снижение размерности улучшило результат."
   ],
   "metadata": {
    "collapsed": false,
    "pycharm": {
     "name": "#%% md\n"
    }
   }
  },
  {
   "cell_type": "markdown",
   "metadata": {
    "pycharm": {
     "name": "#%% md\n"
    }
   },
   "source": [
    "**(0.5 points)** How to evaluate the quality of dimensional reduction? Suggest at least 2 options."
   ]
  },
  {
   "cell_type": "markdown",
   "source": [
    "Я, видимо, не понимаю вопрос. Если речь о метриках, то вот две - силуэт и V-score. В любом случае мы выполняем сравнение численных значений метрик кластеризации для одного и того же набора данных с и без уменьшения размерности. Вот только понятие качества очень ёмкое, и может включать не только влияние на точность модели, но и на ресурсоёмкость её и алгоритма и они не всегда будут сонаправлены. Так что в \"коммерческом\" применение сравниваться будут и точность, и расход памяти и т.д."
   ],
   "metadata": {
    "collapsed": false,
    "pycharm": {
     "name": "#%% md\n"
    }
   }
  },
  {
   "cell_type": "markdown",
   "metadata": {
    "pycharm": {
     "name": "#%% md\n"
    }
   },
   "source": [
    "**(Bonus 2 points)** Load the [MNIST Handwritten Digits](http://yann.lecun.com/exdb/mnist) dataset. You can also do it with `scikit-learn` as explained [here](https://stackoverflow.com/a/60450028). Explore the data and try to cluster it using different approaches. Compare results of these approaches using the silhouette and the $V$-score."
   ]
  },
  {
   "cell_type": "markdown",
   "source": [
    "Оригинальная ссылка требует аутентификации, данные скачаны с его возможной [копии на Kaggle](https://www.kaggle.com/datasets/avnishnish/mnist-original)."
   ],
   "metadata": {
    "collapsed": false,
    "pycharm": {
     "name": "#%% md\n"
    }
   }
  },
  {
   "cell_type": "code",
   "execution_count": 56,
   "outputs": [],
   "source": [
    "import os\n",
    "from scipy.io import loadmat\n",
    "\n",
    "mnist = loadmat(os.path.join(\"..\", \"data\", \"mnist-original\"))\n",
    "mnist_data = mnist[\"data\"].T\n",
    "mnist_label = mnist[\"label\"][0].astype('uint8')"
   ],
   "metadata": {
    "collapsed": false,
    "pycharm": {
     "name": "#%%\n"
    }
   }
  },
  {
   "cell_type": "code",
   "execution_count": 57,
   "outputs": [],
   "source": [
    "assert mnist_data.shape == (70000, 784)"
   ],
   "metadata": {
    "collapsed": false,
    "pycharm": {
     "name": "#%%\n"
    }
   }
  },
  {
   "cell_type": "code",
   "execution_count": 58,
   "outputs": [
    {
     "data": {
      "text/plain": "array([[0, 0, 0, ..., 0, 0, 0],\n       [0, 0, 0, ..., 0, 0, 0],\n       [0, 0, 0, ..., 0, 0, 0],\n       [0, 0, 0, ..., 0, 0, 0],\n       [0, 0, 0, ..., 0, 0, 0]], dtype=uint8)"
     },
     "execution_count": 58,
     "metadata": {},
     "output_type": "execute_result"
    }
   ],
   "source": [
    "mnist_data[:5, :]"
   ],
   "metadata": {
    "collapsed": false,
    "pycharm": {
     "name": "#%%\n"
    }
   }
  },
  {
   "cell_type": "code",
   "execution_count": 59,
   "outputs": [
    {
     "data": {
      "text/plain": "(0, 255)"
     },
     "execution_count": 59,
     "metadata": {},
     "output_type": "execute_result"
    }
   ],
   "source": [
    "mnist_data.min(), mnist_data.max()"
   ],
   "metadata": {
    "collapsed": false,
    "pycharm": {
     "name": "#%%\n"
    }
   }
  },
  {
   "cell_type": "markdown",
   "source": [
    "Честные пиксели, нет необходимости делать масштабирование."
   ],
   "metadata": {
    "collapsed": false,
    "pycharm": {
     "name": "#%% md\n"
    }
   }
  },
  {
   "cell_type": "code",
   "execution_count": 60,
   "outputs": [
    {
     "data": {
      "text/plain": "array([0, 1, 2, 3, 4, 5, 6, 7, 8, 9], dtype=uint8)"
     },
     "execution_count": 60,
     "metadata": {},
     "output_type": "execute_result"
    }
   ],
   "source": [
    "np.unique(mnist_label)"
   ],
   "metadata": {
    "collapsed": false,
    "pycharm": {
     "name": "#%%\n"
    }
   }
  },
  {
   "cell_type": "markdown",
   "source": [
    "Теперь мы знаем количество кластеров для KMeans."
   ],
   "metadata": {
    "collapsed": false,
    "pycharm": {
     "name": "#%% md\n"
    }
   }
  },
  {
   "cell_type": "code",
   "execution_count": 63,
   "outputs": [],
   "source": [
    "# Не влез в память, о чём и писал ранее.\n",
    "# mnist_raw_ac = AgglomerativeClustering(n_clusters=10)\n",
    "# mnist_raw_ac.fit(mnist_data)\n",
    "# mnist_raw_ac_v_score = homogeneity_completeness_v_measure(mnist_label, mnist_raw_ac.labels_)[2]\n",
    "# mnist_raw_ac_silhouette_score = silhouette_score(mnist_data, mnist_raw_ac.labels_)\n",
    "mnist_raw_ac_v_score = None\n",
    "mnist_raw_ac_silhouette_score = None"
   ],
   "metadata": {
    "collapsed": false,
    "pycharm": {
     "name": "#%%\n"
    }
   }
  },
  {
   "cell_type": "code",
   "execution_count": 61,
   "outputs": [],
   "source": [
    "mnist_raw_km = KMeans(n_clusters=10, n_init=30, random_state=42)\n",
    "mnist_raw_km.fit(mnist_data)\n",
    "mnist_raw_km_v_score = homogeneity_completeness_v_measure(mnist_label, mnist_raw_km.labels_)[2]\n",
    "mnist_raw_km_silhouette_score = silhouette_score(mnist_data, mnist_raw_km.labels_)"
   ],
   "metadata": {
    "collapsed": false,
    "pycharm": {
     "name": "#%%\n"
    }
   }
  },
  {
   "cell_type": "code",
   "execution_count": 62,
   "outputs": [
    {
     "name": "stderr",
     "output_type": "stream",
     "text": [
      "G:\\Programming\\ML\\ml-intro-2022-8\\venv\\lib\\site-packages\\sklearn\\manifold\\_t_sne.py:780: FutureWarning: The default initialization in TSNE will change from 'random' to 'pca' in 1.2.\n",
      "  warnings.warn(\n",
      "G:\\Programming\\ML\\ml-intro-2022-8\\venv\\lib\\site-packages\\sklearn\\manifold\\_t_sne.py:790: FutureWarning: The default learning rate in TSNE will change from 200.0 to 'auto' in 1.2.\n",
      "  warnings.warn(\n"
     ]
    }
   ],
   "source": [
    "mnist_data_tsne = TSNE(n_components=2).fit_transform(mnist_data)"
   ],
   "metadata": {
    "collapsed": false,
    "pycharm": {
     "name": "#%%\n"
    }
   }
  },
  {
   "cell_type": "code",
   "execution_count": 68,
   "outputs": [],
   "source": [
    "# Всё равно не влез в память.\n",
    "# mnist_tsne_ac = AgglomerativeClustering(n_clusters=10)\n",
    "# mnist_tsne_ac.fit(mnist_data_tsne)\n",
    "# mnist_tsne_ac_v_score = homogeneity_completeness_v_measure(mnist_label, mnist_tsne_ac.labels_)[2]\n",
    "# mnist_tsne_ac_silhouette_score = silhouette_score(mnist_data, mnist_tsne_ac.labels_)\n",
    "mnist_tsne_ac_v_score = None\n",
    "mnist_tsne_ac_silhouette_score = None"
   ],
   "metadata": {
    "collapsed": false,
    "pycharm": {
     "name": "#%%\n"
    }
   }
  },
  {
   "cell_type": "code",
   "execution_count": 67,
   "outputs": [],
   "source": [
    "mnist_tsne_km = KMeans(n_clusters=10, n_init=30, random_state=42)\n",
    "mnist_tsne_km.fit(mnist_data_tsne)\n",
    "mnist_tsne_km_v_score = homogeneity_completeness_v_measure(mnist_label, mnist_tsne_km.labels_)[2]\n",
    "mnist_tsne_km_silhouette_score = silhouette_score(mnist_data, mnist_tsne_km.labels_)"
   ],
   "metadata": {
    "collapsed": false,
    "pycharm": {
     "name": "#%%\n"
    }
   }
  },
  {
   "cell_type": "code",
   "execution_count": 72,
   "outputs": [
    {
     "name": "stdout",
     "output_type": "stream",
     "text": [
      "raw KM V-score 0.50007 Silhouette 0.05861\n",
      "accuracy 0.48 {0: 0, 9: 1, 7: 2, 5: 5, 6: 9, 2: 6, 4: 7, 3: 8} {0: 0, 1: 9, 2: 7, 3: 5, 4: 6, 5: 5, 6: 2, 7: 4, 8: 3, 9: 6}\n",
      "target 0, pred 0 (91%), 5 (4%), 6 (2%), 8 (1%), 9 (1%), 2 (0%), 7 (0%), 1 (0%)\n",
      "target 1, pred 1 (54%), 0 (45%), 7 (0%), 2 (0%), 8 (0%), 5 (0%), 9 (0%), 6 (0%)\n",
      "target 2, pred 2 (70%), 0 (11%), 1 (6%), 5 (5%), 9 (3%), 8 (3%), 6 (2%), 7 (1%)\n",
      "target 3, pred 5 (64%), 8 (15%), 0 (8%), 1 (6%), 2 (3%), 9 (3%), 7 (1%), 6 (0%)\n",
      "target 4, pred 9 (55%), 7 (32%), 0 (8%), 1 (3%), 6 (2%), 2 (0%), 8 (0%)\n",
      "target 5, pred 0 (34%), 5 (34%), 8 (18%), 9 (7%), 7 (3%), 1 (2%), 6 (1%), 2 (0%)\n",
      "target 6, pred 6 (63%), 0 (31%), 1 (3%), 9 (1%), 2 (1%), 5 (1%), 8 (0%), 7 (0%)\n",
      "target 7, pred 7 (60%), 9 (29%), 1 (5%), 0 (5%), 2 (1%), 8 (0%), 5 (0%), 6 (0%)\n",
      "target 8, pred 8 (60%), 5 (18%), 0 (10%), 1 (5%), 9 (3%), 7 (3%), 2 (1%), 6 (1%)\n",
      "target 9, pred 9 (50%), 7 (41%), 1 (4%), 0 (2%), 8 (1%), 5 (1%), 2 (0%), 6 (0%)\n",
      "TSNE KM V-score 0.77885 Silhouette 0.04104\n",
      "accuracy 0.77 {9: 0, 5: 1, 0: 2, 6: 3, 1: 9, 4: 5, 2: 6, 8: 7, 7: 8} {0: 9, 1: 5, 2: 0, 3: 6, 4: 1, 5: 4, 6: 2, 7: 8, 8: 7, 9: 1}\n",
      "target 0, pred 0 (99%), 6 (0%), 3 (0%), 5 (0%), 7 (0%), 2 (0%), 1 (0%), 9 (0%), 8 (0%)\n",
      "target 1, pred 1 (79%), 0 (20%), 9 (0%), 2 (0%), 7 (0%), 5 (0%), 3 (0%), 8 (0%)\n",
      "target 2, pred 2 (96%), 7 (2%), 0 (1%), 1 (1%), 8 (0%), 9 (0%), 5 (0%), 3 (0%)\n",
      "target 3, pred 3 (95%), 2 (2%), 8 (1%), 7 (1%), 5 (1%), 9 (0%), 6 (0%), 1 (0%), 0 (0%)\n",
      "target 4, pred 9 (54%), 0 (40%), 8 (5%), 1 (1%), 6 (0%), 5 (0%), 7 (0%), 3 (0%), 2 (0%)\n",
      "target 5, pred 5 (80%), 3 (10%), 6 (9%), 9 (1%), 0 (0%), 8 (0%), 1 (0%), 7 (0%), 2 (0%)\n",
      "target 6, pred 6 (80%), 5 (19%), 0 (0%), 1 (0%), 9 (0%), 3 (0%), 8 (0%), 2 (0%)\n",
      "target 7, pred 7 (97%), 0 (1%), 1 (1%), 9 (1%), 2 (1%), 5 (0%), 3 (0%)\n",
      "target 8, pred 8 (88%), 1 (6%), 3 (3%), 0 (1%), 5 (1%), 9 (1%), 6 (0%), 7 (0%), 2 (0%)\n",
      "target 9, pred 9 (51%), 0 (38%), 7 (8%), 3 (2%), 8 (0%), 1 (0%), 6 (0%), 5 (0%), 2 (0%)\n"
     ]
    }
   ],
   "source": [
    "data = (('raw', 'KM', mnist_raw_km_v_score, mnist_raw_km_silhouette_score, mnist_raw_km),\n",
    "        ('TSNE', 'KM', mnist_tsne_km_v_score, mnist_tsne_km_silhouette_score, mnist_tsne_km))\n",
    "for t, r, v_s, s_s, m in data:\n",
    "    print(f'{t} {r} V-score {v_s:.5f} Silhouette {s_s:.5f}')\n",
    "    show_accuracy(m.labels_, mnist_label)"
   ],
   "metadata": {
    "collapsed": false,
    "pycharm": {
     "name": "#%%\n"
    }
   }
  },
  {
   "cell_type": "markdown",
   "source": [
    "Ура, и даже результаты не 50/50. И всё равно это вызов: память выше 16Гб сейчас не нарастить, но для учебных целей допустимо уменьшить количество экземпляров выборки."
   ],
   "metadata": {
    "collapsed": false,
    "pycharm": {
     "name": "#%% md\n"
    }
   }
  },
  {
   "cell_type": "code",
   "execution_count": 74,
   "outputs": [],
   "source": [
    "from sklearn.model_selection import train_test_split\n",
    "\n",
    "mnist_r_data, _, mnist_r_label, _ = train_test_split(mnist_data, mnist_label, test_size=6/7, random_state=42)"
   ],
   "metadata": {
    "collapsed": false,
    "pycharm": {
     "name": "#%%\n"
    }
   }
  },
  {
   "cell_type": "code",
   "execution_count": 75,
   "outputs": [],
   "source": [
    "mnist_r_raw_ac = AgglomerativeClustering(n_clusters=10)\n",
    "mnist_r_raw_ac.fit(mnist_r_data)\n",
    "mnist_r_raw_ac_v_score = homogeneity_completeness_v_measure(mnist_r_label, mnist_r_raw_ac.labels_)[2]\n",
    "mnist_r_raw_ac_silhouette_score = silhouette_score(mnist_r_data, mnist_r_raw_ac.labels_)"
   ],
   "metadata": {
    "collapsed": false,
    "pycharm": {
     "name": "#%%\n"
    }
   }
  },
  {
   "cell_type": "code",
   "execution_count": 76,
   "outputs": [],
   "source": [
    "mnist_r_raw_km = KMeans(n_clusters=10, n_init=30, random_state=42)\n",
    "mnist_r_raw_km.fit(mnist_r_data)\n",
    "mnist_r_raw_km_v_score = homogeneity_completeness_v_measure(mnist_r_label, mnist_r_raw_km.labels_)[2]\n",
    "mnist_r_raw_km_silhouette_score = silhouette_score(mnist_r_data, mnist_r_raw_km.labels_)"
   ],
   "metadata": {
    "collapsed": false,
    "pycharm": {
     "name": "#%%\n"
    }
   }
  },
  {
   "cell_type": "code",
   "execution_count": 77,
   "outputs": [
    {
     "name": "stderr",
     "output_type": "stream",
     "text": [
      "G:\\Programming\\ML\\ml-intro-2022-8\\venv\\lib\\site-packages\\sklearn\\manifold\\_t_sne.py:780: FutureWarning: The default initialization in TSNE will change from 'random' to 'pca' in 1.2.\n",
      "  warnings.warn(\n",
      "G:\\Programming\\ML\\ml-intro-2022-8\\venv\\lib\\site-packages\\sklearn\\manifold\\_t_sne.py:790: FutureWarning: The default learning rate in TSNE will change from 200.0 to 'auto' in 1.2.\n",
      "  warnings.warn(\n"
     ]
    }
   ],
   "source": [
    "mnist_r_data_tsne = TSNE(n_components=2).fit_transform(mnist_r_data)"
   ],
   "metadata": {
    "collapsed": false,
    "pycharm": {
     "name": "#%%\n"
    }
   }
  },
  {
   "cell_type": "code",
   "execution_count": 78,
   "outputs": [],
   "source": [
    "mnist_r_tsne_ac = AgglomerativeClustering(n_clusters=10)\n",
    "mnist_r_tsne_ac.fit(mnist_r_data_tsne)\n",
    "mnist_r_tsne_ac_v_score = homogeneity_completeness_v_measure(mnist_r_label, mnist_r_tsne_ac.labels_)[2]\n",
    "mnist_r_tsne_ac_silhouette_score = silhouette_score(mnist_r_data, mnist_r_tsne_ac.labels_)"
   ],
   "metadata": {
    "collapsed": false,
    "pycharm": {
     "name": "#%%\n"
    }
   }
  },
  {
   "cell_type": "code",
   "execution_count": 79,
   "outputs": [],
   "source": [
    "mnist_r_tsne_km = KMeans(n_clusters=10, n_init=30, random_state=42)\n",
    "mnist_r_tsne_km.fit(mnist_r_data_tsne)\n",
    "mnist_r_tsne_km_v_score = homogeneity_completeness_v_measure(mnist_r_label, mnist_r_tsne_km.labels_)[2]\n",
    "mnist_r_tsne_km_silhouette_score = silhouette_score(mnist_r_data, mnist_r_tsne_km.labels_)"
   ],
   "metadata": {
    "collapsed": false,
    "pycharm": {
     "name": "#%%\n"
    }
   }
  },
  {
   "cell_type": "code",
   "execution_count": 80,
   "outputs": [
    {
     "name": "stdout",
     "output_type": "stream",
     "text": [
      "raw KM V-score 0.47800 Silhouette 0.05940\n",
      "accuracy 0.46 {6: 0, 7: 1, 4: 2, 2: 5, 1: 9, 8: 6, 0: 7, 9: 8} {0: 6, 1: 7, 2: 4, 3: 2, 4: 1, 5: 2, 6: 8, 7: 0, 8: 9, 9: 1}\n",
      "target 0, pred 0 (79%), 8 (9%), 6 (7%), 5 (4%), 2 (0%), 9 (0%), 7 (0%), 1 (0%)\n",
      "target 1, pred 1 (57%), 0 (43%), 9 (0%), 8 (0%), 7 (0%), 6 (0%)\n",
      "target 2, pred 2 (71%), 0 (11%), 5 (7%), 1 (5%), 6 (2%), 8 (2%), 7 (2%), 9 (1%)\n",
      "target 3, pred 5 (61%), 8 (20%), 1 (8%), 2 (4%), 9 (3%), 0 (2%), 6 (1%), 7 (1%)\n",
      "target 4, pred 9 (37%), 0 (32%), 7 (26%), 1 (3%), 6 (2%), 8 (0%), 2 (0%), 5 (0%)\n",
      "target 5, pred 5 (32%), 8 (32%), 0 (16%), 7 (7%), 9 (6%), 6 (3%), 1 (3%), 2 (0%)\n",
      "target 6, pred 6 (69%), 0 (25%), 1 (3%), 8 (1%), 5 (0%), 2 (0%)\n",
      "target 7, pred 7 (55%), 9 (33%), 0 (7%), 1 (4%), 2 (1%), 5 (0%)\n",
      "target 8, pred 8 (51%), 5 (24%), 0 (9%), 1 (6%), 9 (4%), 7 (4%), 6 (1%), 2 (1%)\n",
      "target 9, pred 9 (48%), 7 (33%), 0 (13%), 1 (4%), 5 (1%), 8 (1%), 6 (0%), 2 (0%)\n",
      "raw AC V-score 0.68594 Silhouette 0.02800\n",
      "accuracy 0.62 {4: 0, 5: 1, 7: 2, 1: 5, 0: 9, 6: 6, 2: 7, 3: 8} {0: 4, 1: 5, 2: 7, 3: 1, 4: 0, 5: 1, 6: 6, 7: 2, 8: 3, 9: 0}\n",
      "target 0, pred 0 (90%), 6 (8%), 5 (1%), 2 (0%), 8 (0%)\n",
      "target 1, pred 1 (66%), 0 (32%), 5 (1%), 2 (1%), 7 (0%), 9 (0%), 6 (0%)\n",
      "target 2, pred 2 (96%), 5 (1%), 8 (1%), 7 (1%), 9 (1%), 0 (1%), 6 (0%), 1 (0%)\n",
      "target 3, pred 5 (92%), 8 (3%), 2 (3%), 0 (1%), 9 (0%), 7 (0%), 6 (0%)\n",
      "target 4, pred 9 (90%), 5 (5%), 7 (3%), 2 (1%), 0 (1%), 1 (0%), 6 (0%), 8 (0%)\n",
      "target 5, pred 5 (68%), 8 (29%), 0 (1%), 6 (1%), 9 (1%), 7 (1%), 2 (0%)\n",
      "target 6, pred 6 (89%), 2 (9%), 5 (1%), 0 (0%), 8 (0%), 1 (0%)\n",
      "target 7, pred 7 (87%), 2 (5%), 9 (4%), 0 (2%), 5 (1%), 8 (0%), 1 (0%)\n",
      "target 8, pred 8 (50%), 5 (43%), 2 (3%), 0 (2%), 9 (2%), 7 (1%), 6 (0%), 1 (0%)\n",
      "target 9, pred 9 (77%), 7 (17%), 5 (5%), 2 (1%), 0 (1%), 8 (0%), 6 (0%), 1 (0%)\n",
      "TSNE KM V-score 0.74292 Silhouette 0.03639\n",
      "accuracy 0.71 {4: 0, 2: 1, 7: 2, 3: 3, 9: 4, 8: 8, 0: 6, 5: 7, 1: 9} {0: 4, 1: 2, 2: 7, 3: 3, 4: 9, 5: 8, 6: 0, 7: 5, 8: 8, 9: 1}\n",
      "target 0, pred 0 (99%), 6 (1%), 8 (0%), 3 (0%)\n",
      "target 1, pred 1 (54%), 0 (45%), 9 (0%), 7 (0%), 4 (0%), 2 (0%)\n",
      "target 2, pred 2 (87%), 0 (4%), 1 (4%), 7 (2%), 9 (1%), 8 (1%), 6 (1%), 3 (1%)\n",
      "target 3, pred 3 (92%), 8 (2%), 1 (1%), 0 (1%), 9 (1%), 2 (1%), 7 (1%), 6 (1%), 4 (0%)\n",
      "target 4, pred 4 (57%), 9 (40%), 1 (2%), 0 (1%), 7 (0%), 6 (0%), 8 (0%)\n",
      "target 5, pred 8 (71%), 3 (23%), 6 (2%), 9 (1%), 4 (1%), 0 (1%), 7 (0%), 1 (0%)\n",
      "target 6, pred 6 (99%), 0 (1%), 8 (0%), 2 (0%), 1 (0%)\n",
      "target 7, pred 7 (93%), 1 (2%), 9 (2%), 4 (1%), 0 (1%), 2 (0%)\n",
      "target 8, pred 8 (78%), 3 (11%), 9 (4%), 1 (3%), 4 (2%), 0 (1%), 6 (1%), 7 (0%)\n",
      "target 9, pred 9 (50%), 4 (44%), 7 (3%), 1 (1%), 0 (1%), 3 (1%), 8 (0%), 6 (0%)\n",
      "TSNE AC V-score 0.72648 Silhouette 0.03228\n",
      "accuracy 0.68 {6: 0, 7: 1, 3: 2, 2: 3, 4: 9, 0: 8, 5: 6, 1: 7} {0: 6, 1: 7, 2: 3, 3: 2, 4: 4, 5: 0, 6: 5, 7: 1, 8: 0, 9: 4}\n",
      "target 0, pred 0 (99%), 6 (0%), 8 (0%), 3 (0%)\n",
      "target 1, pred 1 (62%), 0 (37%), 9 (0%), 7 (0%), 2 (0%)\n",
      "target 2, pred 2 (90%), 1 (2%), 7 (2%), 0 (2%), 8 (1%), 6 (1%), 3 (1%), 9 (0%)\n",
      "target 3, pred 3 (92%), 8 (4%), 9 (1%), 1 (1%), 2 (1%), 7 (1%), 0 (1%), 6 (0%)\n",
      "target 4, pred 9 (40%), 7 (30%), 0 (27%), 1 (3%), 6 (0%), 8 (0%)\n",
      "target 5, pred 8 (71%), 3 (24%), 6 (2%), 9 (1%), 0 (1%), 1 (1%), 7 (0%)\n",
      "target 6, pred 6 (99%), 0 (1%), 8 (0%), 1 (0%)\n",
      "target 7, pred 7 (93%), 9 (3%), 1 (2%), 0 (1%), 2 (0%)\n",
      "target 8, pred 8 (83%), 3 (10%), 1 (3%), 9 (2%), 0 (1%), 7 (1%), 6 (1%)\n",
      "target 9, pred 9 (56%), 0 (25%), 7 (17%), 3 (1%), 1 (1%), 6 (0%), 8 (0%)\n"
     ]
    }
   ],
   "source": [
    "data = (('raw', 'KM', mnist_r_raw_km_v_score, mnist_r_raw_km_silhouette_score, mnist_r_raw_km),\n",
    "        ('raw', 'AC', mnist_r_raw_ac_v_score, mnist_r_raw_ac_silhouette_score, mnist_r_raw_ac),\n",
    "        ('TSNE', 'KM', mnist_r_tsne_km_v_score, mnist_r_tsne_km_silhouette_score, mnist_r_tsne_km),\n",
    "        ('TSNE', 'AC', mnist_r_tsne_ac_v_score, mnist_r_tsne_ac_silhouette_score, mnist_r_tsne_ac))\n",
    "for t, r, v_s, s_s, m in data:\n",
    "    print(f'{t} {r} V-score {v_s:.5f} Silhouette {s_s:.5f}')\n",
    "    show_accuracy(m.labels_, mnist_r_label)"
   ],
   "metadata": {
    "collapsed": false,
    "pycharm": {
     "name": "#%%\n"
    }
   }
  },
  {
   "cell_type": "markdown",
   "source": [
    "И побеждает Kmeans после tSNE."
   ],
   "metadata": {
    "collapsed": false,
    "pycharm": {
     "name": "#%% md\n"
    }
   }
  }
 ],
 "metadata": {
  "kernelspec": {
   "display_name": "Python 3 (ipykernel)",
   "language": "python",
   "name": "python3"
  },
  "language_info": {
   "codemirror_mode": {
    "name": "ipython",
    "version": 3
   },
   "file_extension": ".py",
   "mimetype": "text/x-python",
   "name": "python",
   "nbconvert_exporter": "python",
   "pygments_lexer": "ipython3",
   "version": "3.9.7"
  }
 },
 "nbformat": 4,
 "nbformat_minor": 2
}