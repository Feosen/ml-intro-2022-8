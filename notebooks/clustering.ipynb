{
 "cells": [
  {
   "cell_type": "markdown",
   "metadata": {
    "pycharm": {
     "name": "#%% md\n"
    }
   },
   "source": [
    "Each task that is proposed to be completed as part of the homework has a declared \"price\" in points. The maximum possible amount is 10 points, and together with the bonus assignment - 12 points. It is not necessary to complete all the tasks, only a part can be done. Most of the points expect you to write working Python code; sometimes you will need to write comments - for example, to compare several approaches to solve the same problem. Also you can add more cells for your convenience if you need."
   ]
  },
  {
   "cell_type": "markdown",
   "metadata": {
    "pycharm": {
     "name": "#%% md\n"
    }
   },
   "source": [
    "This homework focuses on clustering. We will work with images of handwritten digits, learn how to cluster them using two different methods (hierarchical clustering and the 𝐾-means algorithm), evaluate the quality of the partition and choose the optimal number of clusters, as well as visualize intermediate results."
   ]
  },
  {
   "cell_type": "markdown",
   "metadata": {
    "pycharm": {
     "name": "#%% md\n"
    }
   },
   "source": [
    "## 1. Loading data\n",
    "The data we will be working with is available in the scikit-learn library (`sklearn` module) in the `datasets` submodule via the `load_digits` function. The data contains 1,797 observations, each of which is 8×8 pixel image of a handwritten digit from 0 to 9. This is about the same amount of each digit (about 180).\n",
    "\n",
    "For convenience, every image expands to a 64 (8×8) row, so entire numpy array is 1797×64. The color intensity in each pixel is encoded with an integer from 0 to 16.\n",
    "\n",
    "In addition to images, their labels are also known. In this task, we will assume that the labels (as well as their amount) are unknown and try to group the data in such a way that the resulting clusters 'better match' the original ones. Possible options for determining the 'better match' are presented later."
   ]
  },
  {
   "cell_type": "markdown",
   "metadata": {
    "pycharm": {
     "name": "#%% md\n"
    }
   },
   "source": [
    "**(0.25 points)** Load the images into `X` variable, and their labels into `y` variable."
   ]
  },
  {
   "cell_type": "code",
   "execution_count": 18,
   "metadata": {
    "pycharm": {
     "name": "#%%\n"
    }
   },
   "outputs": [],
   "source": [
    "import numpy as np\n",
    "from matplotlib import pyplot as plt\n",
    "from sklearn.datasets import load_digits\n"
   ]
  },
  {
   "cell_type": "code",
   "execution_count": 19,
   "outputs": [],
   "source": [
    "X, y = load_digits(n_class=10, return_X_y=True)"
   ],
   "metadata": {
    "collapsed": false,
    "pycharm": {
     "name": "#%%\n"
    }
   }
  },
  {
   "cell_type": "code",
   "execution_count": 20,
   "metadata": {
    "pycharm": {
     "name": "#%%\n"
    }
   },
   "outputs": [],
   "source": [
    "assert X.shape == (1797, 64)\n",
    "assert y.shape == (1797,)"
   ]
  },
  {
   "cell_type": "markdown",
   "metadata": {
    "pycharm": {
     "name": "#%% md\n"
    }
   },
   "source": [
    "**(0.5 points)** Visualize the first 10 images.\n",
    "\n",
    "- Arrange images on a grid rather than in a row. You may need the `subplot` and `imshow` functions from the `pyplot` module in the `matplotlib` library.\n",
    "- You will also need to reshape the images to 8×8.\n",
    "- Remove ticks and labels from both axes. The `xticks` and `yticks` functions or the `tick_params` function from `pyplot` can help you with this.\n",
    "- Make the output good sized with the `figure` function from `pyplot`."
   ]
  },
  {
   "cell_type": "code",
   "execution_count": 130,
   "metadata": {
    "pycharm": {
     "name": "#%%\n"
    }
   },
   "outputs": [
    {
     "data": {
      "text/plain": "<Figure size 720x360 with 10 Axes>",
      "image/png": "[encoded data removed]"
     },
     "metadata": {
      "needs_background": "light"
     },
     "output_type": "display_data"
    }
   ],
   "source": [
    "def show_clusters(X, y):\n",
    "    _, axes = plt.subplots(nrows=2, ncols=5, figsize=(10, 5))\n",
    "    for ax, image, label in zip(axes.flatten(), X, y):\n",
    "        ax.set_axis_off()\n",
    "        ax.imshow(image.reshape((8, 8)))\n",
    "        ax.set_title(label)\n",
    "\n",
    "show_clusters(X, y)"
   ]
  },
  {
   "cell_type": "markdown",
   "metadata": {
    "pycharm": {
     "name": "#%% md\n"
    }
   },
   "source": [
    "## 2. Clustering and quality evaluation"
   ]
  },
  {
   "cell_type": "markdown",
   "metadata": {
    "pycharm": {
     "name": "#%% md\n"
    }
   },
   "source": [
    "**(2 points)** Implement the the KMeans algorithm. Use objective function $L = \\sum_{i=1}^{n}|x_{i}-Z_{A(x_{i})}|^{2}$, where $Z_{A(x_{i})}$ is the center of the cluster corresponding to $x_{i}$ object."
   ]
  },
  {
   "cell_type": "code",
   "execution_count": 22,
   "metadata": {
    "pycharm": {
     "name": "#%%\n"
    }
   },
   "outputs": [],
   "source": [
    "from sklearn.exceptions import NotFittedError\n",
    "from numpy.random import RandomState\n"
   ]
  },
  {
   "cell_type": "code",
   "execution_count": 118,
   "metadata": {
    "pycharm": {
     "name": "#%%\n"
    }
   },
   "outputs": [],
   "source": [
    "class CustomKMeans:\n",
    "    def __init__(self, n_clusters=2, max_iter=300, n_init=10, random_state=42):\n",
    "        \"\"\"K-Means clustering.\n",
    "        \n",
    "        Args:\n",
    "            n_clusters: int, default=2\n",
    "                The number of clusters to be formed is also \n",
    "                the number of centroids to generate. \n",
    "            max_iter: int, default=300\n",
    "                Maximum number of iterations of the k-means algorithm for a\n",
    "                single run.\n",
    "            n_init: int, default=10\n",
    "                Number of time the k-means algorithm will be run with different\n",
    "                centroid seeds. The final results will be the best output of\n",
    "                n_init consecutive runs in terms of objective function.\n",
    "            random_state: int, default=42\n",
    "                Random state.\n",
    "        \"\"\"\n",
    "        self.n_clusters = n_clusters\n",
    "        self.n_init = n_init\n",
    "        self.max_iter = max_iter\n",
    "        self.random_state = RandomState(seed=random_state)\n",
    "        \n",
    "    def calculate_distances_to_centroids(self, X, cluster_centers):\n",
    "        \"\"\"\n",
    "        Returns (n, c) matrix where the element at position (i, j) \n",
    "        is the distance from i-th object to j-th centroid.\"\"\"\n",
    "        assert self.n_clusters == cluster_centers.shape[0]\n",
    "\n",
    "        dist = np.zeros((X.shape[0], self.n_clusters))\n",
    "        for j, c in enumerate(cluster_centers):\n",
    "            dist[:, j] = np.linalg.norm(X - c, axis=1)\n",
    "        return dist\n",
    "    \n",
    "    def update_centroids(self, X, nearest_clusters):\n",
    "        \"\"\"\n",
    "        Returns numpy array of shape (n_clusters, n_features) - \n",
    "        new clusters that are found by averaging objects belonging \n",
    "        to the corresponding cluster.\"\"\"\n",
    "        assert X.shape[0] == nearest_clusters.shape[0]\n",
    "\n",
    "        centroids = np.zeros((self.n_clusters, X.shape[1]))\n",
    "        for i in range(self.n_clusters):\n",
    "            centroids[i, :] = X[nearest_clusters == i].mean(0)\n",
    "        return centroids\n",
    "        \n",
    "    def fit(self, X):\n",
    "        \"\"\"Fit the model.\n",
    "        \n",
    "        Args:\n",
    "            X: numpy array of shape (n_samples, n_features)\n",
    "        \"\"\"\n",
    "        assert X.shape[0] >= self.n_clusters\n",
    "        assert 0 < self.max_iter\n",
    "\n",
    "        ls = np.zeros(self.n_init)\n",
    "        cc = np.zeros((self.n_init, self.n_clusters, X.shape[1]))\n",
    "        self.max_iter_ = 0\n",
    "        for n in range(self.n_init):\n",
    "            prev_nearest_clusters = None\n",
    "            cluster_centers = X[self.random_state.randint(0, X.shape[0] + 1, self.n_clusters)]\n",
    "            for i in range(self.max_iter):\n",
    "                nearest_clusters = self.calculate_distances_to_centroids(X, cluster_centers).argmin(1)\n",
    "                if prev_nearest_clusters is not None and np.array_equal(prev_nearest_clusters, nearest_clusters):\n",
    "                    if self.max_iter_ < i:\n",
    "                        self.max_iter_ = i\n",
    "                    break\n",
    "                cluster_centers = self.update_centroids(X, nearest_clusters)\n",
    "                prev_nearest_clusters = nearest_clusters\n",
    "\n",
    "            cc[n, :, :] = cluster_centers\n",
    "            for i, c in enumerate(cluster_centers):\n",
    "                ls[n] += (abs(X[nearest_clusters == i] - c)).sum()\n",
    "        self.best_objective_ = ls.min()\n",
    "        self.cluster_centers_ = cc[ls.argmin(), :]\n",
    "        return self\n",
    "            \n",
    "    \n",
    "    def predict(self, X):\n",
    "        \"\"\"Predict classes.\n",
    "        \n",
    "        Args:\n",
    "            X: numpy array of shape (n_samples, n_features)\n",
    "        Returns:\n",
    "            y: numpy array of shape (n_samples,)\n",
    "                Vector containing predicted cluster labels.\n",
    "        \"\"\"\n",
    "        if hasattr(self, 'cluster_centers_'):\n",
    "            return self.calculate_distances_to_centroids(X, self.cluster_centers_).argmin(1)\n",
    "        else: \n",
    "            raise NotFittedError(\"CustomKMeans instance is not fitted yet\")"
   ]
  },
  {
   "cell_type": "code",
   "execution_count": 111,
   "outputs": [],
   "source": [
    "from sklearn.metrics import pairwise_distances\n",
    "\n",
    "ckm = CustomKMeans(n_clusters=10)\n",
    "assert np.allclose(ckm.calculate_distances_to_centroids(X, X[:10]), pairwise_distances(X, X[:10], n_jobs=-1))"
   ],
   "metadata": {
    "collapsed": false,
    "pycharm": {
     "name": "#%%\n"
    }
   }
  },
  {
   "cell_type": "markdown",
   "metadata": {
    "pycharm": {
     "name": "#%% md\n"
    }
   },
   "source": [
    "**(1 points)** Get the `X` array partition into 10 clusters. Visualize the centers of clusters.\n",
    "- We will assume that the center of the cluster is average value of all observations belonging to the cluster.\n",
    "- The cluster centers should have the same shape as our observations (64). So you have to average the points across the rows."
   ]
  },
  {
   "cell_type": "code",
   "execution_count": 133,
   "metadata": {
    "pycharm": {
     "name": "#%%\n"
    }
   },
   "outputs": [],
   "source": [
    "ckm = CustomKMeans(n_clusters=10)\n",
    "ckm.fit(X)\n",
    "custom_kmeans_labels = ckm.predict(X)\n",
    "assert custom_kmeans_labels.shape == (1797,)"
   ]
  },
  {
   "cell_type": "code",
   "execution_count": 134,
   "outputs": [],
   "source": [
    "def calc_centers(X, y, n):\n",
    "    centers = np.zeros(X.shape)\n",
    "    for i in range(n):\n",
    "        centers[i, :] = X[y == i].mean(0)\n",
    "    return centers"
   ],
   "metadata": {
    "collapsed": false,
    "pycharm": {
     "name": "#%%\n"
    }
   }
  },
  {
   "cell_type": "code",
   "execution_count": 135,
   "outputs": [
    {
     "data": {
      "text/plain": "<Figure size 720x360 with 10 Axes>",
      "image/png": "[encoded data removed]"
     },
     "metadata": {
      "needs_background": "light"
     },
     "output_type": "display_data"
    }
   ],
   "source": [
    "clusters = calc_centers(X, custom_kmeans_labels, 10)\n",
    "show_clusters(clusters, range(10))"
   ],
   "metadata": {
    "collapsed": false,
    "pycharm": {
     "name": "#%%\n"
    }
   }
  },
  {
   "cell_type": "markdown",
   "metadata": {
    "pycharm": {
     "name": "#%% md\n"
    }
   },
   "source": [
    "**(0.5 points)** Experiment with `max_iter` and `n_init` parameters. Look at the range of values of the objective function, it's best values, at what parameters and how often they are achieved."
   ]
  },
  {
   "cell_type": "code",
   "execution_count": 120,
   "metadata": {
    "pycharm": {
     "name": "#%%\n"
    }
   },
   "outputs": [],
   "source": [
    "n_init_space = np.linspace(10, 20, 11, dtype=np.int16)\n",
    "max_iter_space = np.linspace(10, 300, 30, dtype=np.int16)\n",
    "obj_fn = np.zeros((n_init_space.size, max_iter_space.size))\n",
    "speed = np.zeros(obj_fn.shape)\n",
    "for i, n_init in enumerate(n_init_space):\n",
    "    for j, max_iter in enumerate(max_iter_space):\n",
    "        c = CustomKMeans(n_clusters=10, n_init=n_init, max_iter=max_iter)\n",
    "        c.fit(X)\n",
    "        obj_fn[i, j] = c.best_objective_\n",
    "        speed[i, j] = c.max_iter_\n"
   ]
  },
  {
   "cell_type": "code",
   "execution_count": 125,
   "outputs": [
    {
     "data": {
      "text/plain": "array([[233546.4879818 , 233476.10783288, 233476.10783288,\n        233476.10783288, 233476.10783288, 233476.10783288,\n        233476.10783288, 233476.10783288, 233476.10783288,\n        233476.10783288, 233476.10783288, 233476.10783288,\n        233476.10783288, 233476.10783288, 233476.10783288,\n        233476.10783288, 233476.10783288, 233476.10783288,\n        233476.10783288, 233476.10783288, 233476.10783288,\n        233476.10783288, 233476.10783288, 233476.10783288,\n        233476.10783288, 233476.10783288, 233476.10783288,\n        233476.10783288, 233476.10783288, 233476.10783288],\n       [233546.4879818 , 233476.10783288, 233476.10783288,\n        233476.10783288, 233476.10783288, 233476.10783288,\n        233476.10783288, 233476.10783288, 233476.10783288,\n        233476.10783288, 233476.10783288, 233476.10783288,\n        233476.10783288, 233476.10783288, 233476.10783288,\n        233476.10783288, 233476.10783288, 233476.10783288,\n        233476.10783288, 233476.10783288, 233476.10783288,\n        233476.10783288, 233476.10783288, 233476.10783288,\n        233476.10783288, 233476.10783288, 233476.10783288,\n        233476.10783288, 233476.10783288, 233476.10783288],\n       [233546.4879818 , 233476.10783288, 233476.10783288,\n        233476.10783288, 233476.10783288, 233476.10783288,\n        233476.10783288, 233476.10783288, 233476.10783288,\n        233476.10783288, 233476.10783288, 233476.10783288,\n        233476.10783288, 233476.10783288, 233476.10783288,\n        233476.10783288, 233476.10783288, 233476.10783288,\n        233476.10783288, 233476.10783288, 233476.10783288,\n        233476.10783288, 233476.10783288, 233476.10783288,\n        233476.10783288, 233476.10783288, 233476.10783288,\n        233476.10783288, 233476.10783288, 233476.10783288],\n       [233546.4879818 , 233476.10783288, 233476.10783288,\n        233476.10783288, 233476.10783288, 233476.10783288,\n        233476.10783288, 233476.10783288, 233476.10783288,\n        233476.10783288, 233476.10783288, 233476.10783288,\n        233476.10783288, 233476.10783288, 233476.10783288,\n        233476.10783288, 233476.10783288, 233476.10783288,\n        233476.10783288, 233476.10783288, 233476.10783288,\n        233476.10783288, 233476.10783288, 233476.10783288,\n        233476.10783288, 233476.10783288, 233476.10783288,\n        233476.10783288, 233476.10783288, 233476.10783288],\n       [233546.4879818 , 233476.10783288, 233476.10783288,\n        233476.10783288, 233476.10783288, 233476.10783288,\n        233476.10783288, 233476.10783288, 233476.10783288,\n        233476.10783288, 233476.10783288, 233476.10783288,\n        233476.10783288, 233476.10783288, 233476.10783288,\n        233476.10783288, 233476.10783288, 233476.10783288,\n        233476.10783288, 233476.10783288, 233476.10783288,\n        233476.10783288, 233476.10783288, 233476.10783288,\n        233476.10783288, 233476.10783288, 233476.10783288,\n        233476.10783288, 233476.10783288, 233476.10783288],\n       [233546.4879818 , 233476.10783288, 233476.10783288,\n        233476.10783288, 233476.10783288, 233476.10783288,\n        233476.10783288, 233476.10783288, 233476.10783288,\n        233476.10783288, 233476.10783288, 233476.10783288,\n        233476.10783288, 233476.10783288, 233476.10783288,\n        233476.10783288, 233476.10783288, 233476.10783288,\n        233476.10783288, 233476.10783288, 233476.10783288,\n        233476.10783288, 233476.10783288, 233476.10783288,\n        233476.10783288, 233476.10783288, 233476.10783288,\n        233476.10783288, 233476.10783288, 233476.10783288],\n       [233546.4879818 , 233476.10783288, 233476.10783288,\n        233476.10783288, 233476.10783288, 233476.10783288,\n        233476.10783288, 233476.10783288, 233476.10783288,\n        233476.10783288, 233476.10783288, 233476.10783288,\n        233476.10783288, 233476.10783288, 233476.10783288,\n        233476.10783288, 233476.10783288, 233476.10783288,\n        233476.10783288, 233476.10783288, 233476.10783288,\n        233476.10783288, 233476.10783288, 233476.10783288,\n        233476.10783288, 233476.10783288, 233476.10783288,\n        233476.10783288, 233476.10783288, 233476.10783288],\n       [233546.4879818 , 233476.10783288, 233476.10783288,\n        233476.10783288, 233476.10783288, 233476.10783288,\n        233476.10783288, 233476.10783288, 233476.10783288,\n        233476.10783288, 233476.10783288, 233476.10783288,\n        233476.10783288, 233476.10783288, 233476.10783288,\n        233476.10783288, 233476.10783288, 233476.10783288,\n        233476.10783288, 233476.10783288, 233476.10783288,\n        233476.10783288, 233476.10783288, 233476.10783288,\n        233476.10783288, 233476.10783288, 233476.10783288,\n        233476.10783288, 233476.10783288, 233476.10783288],\n       [233546.4879818 , 233476.10783288, 233476.10783288,\n        233476.10783288, 233476.10783288, 233476.10783288,\n        233476.10783288, 233476.10783288, 233476.10783288,\n        233476.10783288, 233476.10783288, 233476.10783288,\n        233476.10783288, 233476.10783288, 233476.10783288,\n        233476.10783288, 233476.10783288, 233476.10783288,\n        233476.10783288, 233476.10783288, 233476.10783288,\n        233476.10783288, 233476.10783288, 233476.10783288,\n        233476.10783288, 233476.10783288, 233476.10783288,\n        233476.10783288, 233476.10783288, 233476.10783288],\n       [233546.4879818 , 233476.10783288, 233476.10783288,\n        233476.10783288, 233476.10783288, 233476.10783288,\n        233476.10783288, 233476.10783288, 233476.10783288,\n        233476.10783288, 233476.10783288, 233476.10783288,\n        233476.10783288, 233476.10783288, 233476.10783288,\n        233476.10783288, 233476.10783288, 233476.10783288,\n        233476.10783288, 233476.10783288, 233476.10783288,\n        233476.10783288, 233476.10783288, 233476.10783288,\n        233476.10783288, 233476.10783288, 233476.10783288,\n        233476.10783288, 233476.10783288, 233476.10783288],\n       [233546.4879818 , 233476.10783288, 233476.10783288,\n        233476.10783288, 233476.10783288, 233476.10783288,\n        233476.10783288, 233476.10783288, 233476.10783288,\n        233476.10783288, 233476.10783288, 233476.10783288,\n        233476.10783288, 233476.10783288, 233476.10783288,\n        233476.10783288, 233476.10783288, 233476.10783288,\n        233476.10783288, 233476.10783288, 233476.10783288,\n        233476.10783288, 233476.10783288, 233476.10783288,\n        233476.10783288, 233476.10783288, 233476.10783288,\n        233476.10783288, 233476.10783288, 233476.10783288]])"
     },
     "execution_count": 125,
     "metadata": {},
     "output_type": "execute_result"
    }
   ],
   "source": [
    "obj_fn"
   ],
   "metadata": {
    "collapsed": false,
    "pycharm": {
     "name": "#%%\n"
    }
   }
  },
  {
   "cell_type": "code",
   "execution_count": 124,
   "outputs": [
    {
     "data": {
      "text/plain": "array([[ 0., 18., 29., 29., 40., 40., 40., 40., 40., 40., 40., 40., 40.,\n        40., 40., 40., 40., 40., 40., 40., 40., 40., 40., 40., 40., 40.,\n        40., 40., 40., 40.],\n       [ 0., 18., 29., 29., 40., 40., 40., 40., 40., 40., 40., 40., 40.,\n        40., 40., 40., 40., 40., 40., 40., 40., 40., 40., 40., 40., 40.,\n        40., 40., 40., 40.],\n       [ 0., 18., 29., 29., 40., 40., 40., 40., 40., 40., 40., 40., 40.,\n        40., 40., 40., 40., 40., 40., 40., 40., 40., 40., 40., 40., 40.,\n        40., 40., 40., 40.],\n       [ 0., 18., 29., 29., 42., 42., 42., 42., 42., 42., 42., 42., 42.,\n        42., 42., 42., 42., 42., 42., 42., 42., 42., 42., 42., 42., 42.,\n        42., 42., 42., 42.],\n       [ 0., 18., 29., 29., 42., 42., 42., 42., 42., 42., 42., 42., 42.,\n        42., 42., 42., 42., 42., 42., 42., 42., 42., 42., 42., 42., 42.,\n        42., 42., 42., 42.],\n       [ 9., 18., 29., 29., 42., 42., 42., 42., 42., 42., 42., 42., 42.,\n        42., 42., 42., 42., 42., 42., 42., 42., 42., 42., 42., 42., 42.,\n        42., 42., 42., 42.],\n       [ 9., 18., 29., 29., 42., 42., 42., 42., 42., 42., 42., 42., 42.,\n        42., 42., 42., 42., 42., 42., 42., 42., 42., 42., 42., 42., 42.,\n        42., 42., 42., 42.],\n       [ 9., 18., 29., 29., 42., 42., 42., 42., 42., 42., 42., 42., 42.,\n        42., 42., 42., 42., 42., 42., 42., 42., 42., 42., 42., 42., 42.,\n        42., 42., 42., 42.],\n       [ 9., 18., 29., 29., 42., 42., 42., 42., 42., 42., 42., 42., 42.,\n        42., 42., 42., 42., 42., 42., 42., 42., 42., 42., 42., 42., 42.,\n        42., 42., 42., 42.],\n       [ 9., 18., 29., 29., 42., 42., 42., 42., 42., 42., 42., 42., 42.,\n        42., 42., 42., 42., 42., 42., 42., 42., 42., 42., 42., 42., 42.,\n        42., 42., 42., 42.],\n       [ 9., 18., 29., 29., 42., 42., 42., 42., 42., 42., 42., 42., 42.,\n        42., 42., 42., 42., 42., 42., 42., 42., 42., 42., 42., 42., 42.,\n        42., 42., 42., 42.]])"
     },
     "execution_count": 124,
     "metadata": {},
     "output_type": "execute_result"
    }
   ],
   "source": [
    "speed"
   ],
   "metadata": {
    "collapsed": false,
    "pycharm": {
     "name": "#%%\n"
    }
   }
  },
  {
   "cell_type": "markdown",
   "metadata": {
    "pycharm": {
     "name": "#%% md\n"
    }
   },
   "source": [
    "Now we will use two popular algorithms: hierarchical clustering and $K$-means clustering. These and other algorithms are available in the `scikit-learn` module in the `cluster` submodule. Hierarchical clustering is called `AgglomerativeClustering`, and the $K$-means method is called `KMeans`.\n",
    "\n",
    "**(0.5 points)** Use each of the two methods: hierarchical clustering and KMeans. Get the `X` array partition into 10 clusters.\n",
    "\n",
    "- Note that `AgglomerativeClustering` does not have a `predict` method, so you can either use the `fit_predict` method or use the `fit` method and then look at the `labels_` attribute of the class instance.\n",
    "- Kmeans performs multiple runs (default 10) with random centers and then returns the best partition in terms of average distance within the clusters. You can increase the number of runs to improve the quality of predictions in the `i_init` parameter."
   ]
  },
  {
   "cell_type": "code",
   "execution_count": 138,
   "metadata": {
    "pycharm": {
     "name": "#%%\n"
    }
   },
   "outputs": [],
   "source": [
    "from sklearn.cluster import AgglomerativeClustering, KMeans\n",
    "\n",
    "ac = AgglomerativeClustering(n_clusters=10)\n",
    "ac.fit(X)\n",
    "hierarchical_labels = ac.labels_\n",
    "\n",
    "km = KMeans(n_clusters=10, n_init=30, random_state=42)\n",
    "km.fit(X)\n",
    "kmeans_labels = km.labels_"
   ]
  },
  {
   "cell_type": "code",
   "execution_count": 139,
   "metadata": {
    "pycharm": {
     "name": "#%%\n"
    }
   },
   "outputs": [],
   "source": [
    "assert hierarchical_labels.shape == (1797,)\n",
    "assert kmeans_labels.shape == (1797,)"
   ]
  },
  {
   "cell_type": "markdown",
   "metadata": {
    "pycharm": {
     "name": "#%% md\n"
    }
   },
   "source": [
    "**(0.5 points)** Visualize the centers of clusters obtained by both methods."
   ]
  },
  {
   "cell_type": "code",
   "execution_count": 140,
   "metadata": {
    "pycharm": {
     "name": "#%%\n"
    }
   },
   "outputs": [
    {
     "data": {
      "text/plain": "<Figure size 720x360 with 10 Axes>",
      "image/png": "[encoded data removed]"
     },
     "metadata": {
      "needs_background": "light"
     },
     "output_type": "display_data"
    }
   ],
   "source": [
    "ac_centers = calc_centers(X, hierarchical_labels, 10)\n",
    "show_clusters(ac_centers, range(10))"
   ]
  },
  {
   "cell_type": "code",
   "execution_count": 141,
   "outputs": [
    {
     "data": {
      "text/plain": "<Figure size 720x360 with 10 Axes>",
      "image/png": "[encoded data removed]"
     },
     "metadata": {
      "needs_background": "light"
     },
     "output_type": "display_data"
    }
   ],
   "source": [
    "km_centers = calc_centers(X, kmeans_labels, 10)\n",
    "show_clusters(km_centers, range(10))"
   ],
   "metadata": {
    "collapsed": false,
    "pycharm": {
     "name": "#%%\n"
    }
   }
  },
  {
   "cell_type": "markdown",
   "metadata": {
    "pycharm": {
     "name": "#%% md\n"
    }
   },
   "source": [
    "In a situation where the true number of classes is unknown, we can select it by maximazing some metric.\n",
    "\n",
    "When we can set some distance function between our observations, we can consider the `silhouette` distance as a function of measuring the quality of the clustering. Let's show how it is calculated:"
   ]
  },
  {
   "cell_type": "markdown",
   "metadata": {
    "pycharm": {
     "name": "#%% md\n"
    }
   },
   "source": [
    "Let $X$ – set of observations, $M \\subset X$ – one of the clusters obtained as a result of clustering process, $\\rho$ – some metric on $X$. Let's choose one observation $x \\in M$. Denote $a(x)$ as the average distance from $x$ to  $x'$ points from the same cluster:\n",
    "$$\n",
    "a(x) = \\frac{1}{|M| - 1} \\sum_{x' \\in M,\\, x' \\ne x} \\rho(x,\\, x')\n",
    "$$\n",
    "\n",
    "Denote $b(x)$ as minimun of average distances from $x$ to $x''$ from some other cluster $N$:\n",
    "$$\n",
    "b(x) = \\min_{N \\ne M} \\frac{1}{|N|} \\sum_{x'' \\in N} \\rho(x,\\, x'')\n",
    "$$\n",
    "\n",
    "The silhouette is difference between a(x) and b(x), normalized to $[-1, \\, 1]$ and averaged over all observations:\n",
    "$$\n",
    "\\frac{1}{|X|} \\sum_{x \\in X} \\frac{b(x) - a(x)}{\\max(a(x),\\, b(x))}\n",
    "$$\n",
    "\n",
    "The implementation of this metric in the `scikit-learn` is the `silhouette_score` function from the `metrics` submidule."
   ]
  },
  {
   "cell_type": "markdown",
   "metadata": {
    "collapsed": true,
    "pycharm": {
     "name": "#%% md\n"
    }
   },
   "source": [
    "**(0.75 point)** For each $K$ between 2 and 20 inclusive, partition of the array $X$ into $K$ clusters using both methods. Calculate the silhouette score and visualize it for both methods on the same plot ($K$ on the $x$ axis and silhouette score on the $y$ axis). Sign the axes and make a legend."
   ]
  },
  {
   "cell_type": "code",
   "execution_count": 143,
   "metadata": {
    "pycharm": {
     "name": "#%%\n"
    }
   },
   "outputs": [],
   "source": [
    "from sklearn.metrics import silhouette_score\n",
    "\n",
    "ac_score = np.zeros(19)\n",
    "km_score = np.zeros(19)\n",
    "k_space = np.linspace(2, 20, 19, dtype=np.int32)\n",
    "for i, k in enumerate(k_space):\n",
    "    ac = AgglomerativeClustering(n_clusters=k)\n",
    "    ac.fit(X)\n",
    "    ac_score[i] = silhouette_score(X, ac.labels_)\n",
    "\n",
    "    km = KMeans(n_clusters=k, n_init=30, random_state=42)\n",
    "    km.fit(X)\n",
    "    km_score[i] = silhouette_score(X, km.labels_)\n"
   ]
  },
  {
   "cell_type": "code",
   "execution_count": 145,
   "outputs": [
    {
     "data": {
      "text/plain": "<Figure size 432x288 with 1 Axes>",
      "image/png": "[encoded data removed]"
     },
     "metadata": {
      "needs_background": "light"
     },
     "output_type": "display_data"
    }
   ],
   "source": [
    "plt.plot(k_space, ac_score, label='AgglomerativeClustering')\n",
    "plt.plot(k_space, km_score, label='KMeans')\n",
    "plt.xlabel('number of clusters')\n",
    "plt.xlabel('silhouette_score')\n",
    "plt.legend();"
   ],
   "metadata": {
    "collapsed": false,
    "pycharm": {
     "name": "#%%\n"
    }
   }
  },
  {
   "cell_type": "markdown",
   "metadata": {
    "pycharm": {
     "name": "#%% md\n"
    }
   },
   "source": [
    "When we know the true clustering labels, the clustering result can be compared to them using measures such as `homogeneity`, `completeness` and their harmonic mean - $V$-score. The definitions of these quantities are rather bulky and are based on the [entropy of the probability distribution](https://ru.wikipedia.org/wiki/Информационная_энтропия). Details are given in [this article](http://aclweb.org/anthology/D/D07/D07-1043.pdf). In practice, it's enough to know that `homogeneity`, `completeness` and $V$-score are in the range from 0 and 1, and the more, the better.\n",
    "\n",
    "Since we know what digit each image is (`y` array), we can compare the clustering results to it using the measures listed above."
   ]
  },
  {
   "cell_type": "markdown",
   "metadata": {
    "pycharm": {
     "name": "#%% md\n"
    }
   },
   "source": [
    "**(0.5 points)** Repeat the previous task using $V$-measure instead of silhouette."
   ]
  },
  {
   "cell_type": "code",
   "execution_count": 147,
   "metadata": {
    "pycharm": {
     "name": "#%%\n"
    }
   },
   "outputs": [],
   "source": [
    "from sklearn.metrics import homogeneity_completeness_v_measure\n",
    "\n",
    "ac_v_score = np.zeros((19, 3))\n",
    "km_v_score = np.zeros((19, 3))\n",
    "k_space = np.linspace(2, 20, 19, dtype=np.int32)\n",
    "for i, k in enumerate(k_space):\n",
    "    ac = AgglomerativeClustering(n_clusters=k)\n",
    "    ac.fit(X)\n",
    "    ac_v_score[i] = homogeneity_completeness_v_measure(y, ac.labels_)\n",
    "\n",
    "    km = KMeans(n_clusters=k, n_init=30, random_state=42)\n",
    "    km.fit(X)\n",
    "    km_v_score[i] = homogeneity_completeness_v_measure(y, km.labels_)"
   ]
  },
  {
   "cell_type": "code",
   "execution_count": 151,
   "outputs": [
    {
     "data": {
      "text/plain": "<Figure size 720x360 with 1 Axes>",
      "image/png": "[encoded data removed]"
     },
     "metadata": {
      "needs_background": "light"
     },
     "output_type": "display_data"
    }
   ],
   "source": [
    "plt.figure(figsize=(10,5))\n",
    "#plt.plot(k_space, ac_v_score, label=['AC H', 'AC C', 'AC V'])\n",
    "#plt.plot(k_space, km_v_score, label=['KM H', 'KM C', 'KM V'])\n",
    "plt.plot(k_space, ac_v_score[:,2], label='AC V')\n",
    "plt.plot(k_space, km_v_score[:,2], label='KM V')\n",
    "plt.xlabel('number of clusters')\n",
    "plt.xlabel('metrics')\n",
    "plt.legend();"
   ],
   "metadata": {
    "collapsed": false,
    "pycharm": {
     "name": "#%%\n"
    }
   }
  },
  {
   "cell_type": "markdown",
   "metadata": {
    "pycharm": {
     "name": "#%% md\n"
    }
   },
   "source": [
    "## 3. Feature space dimensionality reduction\n",
    "\n",
    "In some cases, especially when there are a large number of features, when not all of them are informative, and some of them are correlated, it can be useful to reduce the dimension of the feature space. This mean that instead of $d$ original features, we will go to $d'\\ll d$ new ones. And if earlier our data were presented in the form of an $n×d$ matrix, then it will presented as a $n×d'$.\n",
    "\n",
    "There are two popular dimensionality reduction approaches:\n",
    "- select new features from existing features;\n",
    "- extract the new features by transforming old ones, for example, by making $d'$ different linear combinations of columns of an $n×d$ matrix.\n",
    "\n",
    "One widely used dimensionality reduction technique is the Singular Value Decomposition (SVD). This method allows you to construct any number $d'\\leq d$ of new features in such a way that they are the most informative (in some sense).\n",
    "\n",
    "The `scikit-learn` module has several implementations of singular value decomposition. We will use the `TruncatedSVD` class from the `decomposition` submodule.\n",
    "\n",
    "**Note:** The singular value decomposition of the matrix $M$ is usually written as $M=U \\Sigma V^{*}$. `TruncatedSVD`, in turn, returns only the $d'$ first columns of the matrix $U$."
   ]
  },
  {
   "cell_type": "markdown",
   "metadata": {
    "pycharm": {
     "name": "#%% md\n"
    }
   },
   "source": [
    "**(0.75 point)** Perform a singular value decomposition of the $X$ matrix, leaving 2, 5, 10, 20 features. In each case, perform hierarchical clustering and $K$-Means clustering (take the number of clusters equal to 10). Calculate the silhouette and $V$-score and compare them to corresponding values obtained from the original data.\n",
    "\n",
    "**Note**: It is not valid to compare the silhouette calculated with different metrics. Even if we use the same metric function when calculating the distance between points in the data, after applying dimensionality reduction or other data transformations, we will (not always) get different silhouette scores. Therefore, after training the clustering algorithm, to compare the result of clustering, you need to calculate the silhouette on the original data."
   ]
  },
  {
   "cell_type": "code",
   "execution_count": null,
   "metadata": {
    "pycharm": {
     "name": "#%%\n"
    }
   },
   "outputs": [],
   "source": []
  },
  {
   "cell_type": "markdown",
   "metadata": {
    "pycharm": {
     "name": "#%% md\n"
    }
   },
   "source": [
    "Another popular dimensionality reduction approach that is useful for working with images is t-distributed stochastic neighbor embeddings, abbreviated `tSNE`. Unlike singular value decomposition, this it is non-linear transformation. It's main idea is to map points from a space of dimension `d` to another space of dimension 2 or 3 in such a way that the distances between points are mostly preserved. Mathematical details can be found, for example, [here](https://en.wikipedia.org/wiki/T-distributed_stochastic_neighbor_embedding).\n",
    "\n",
    "The implementation of `tSNE` in the `scikit-learn` library is the `TSNE` class in the `manifold` submodule.\n",
    "\n",
    "**Note:** In recent years [UMAP](https://github.com/lmcinnes/umap) is often used istead of `tSNE`. It is a faster algorithm with similar properties. We don't ask you to use `UMAP` because it requires you to install another dependency, the `umap-learn` library. Those who wish can perform the following task using `UMAP`."
   ]
  },
  {
   "cell_type": "markdown",
   "metadata": {
    "pycharm": {
     "name": "#%% md\n"
    }
   },
   "source": [
    "**(0.5 points)** Perform a tSNE-transform of the `X` matrix, leaving 2 features. Visualize the obtained data in the form of a scatter plot form: the first feature on the horizontal axis, and the second one the vertical axis. Color the points according to the digits they belong to.\n",
    "\n",
    "- The `c` parameter in the plt.scatter function is responsible for the color of the points. Pass the true labels to it."
   ]
  },
  {
   "cell_type": "code",
   "execution_count": null,
   "metadata": {
    "pycharm": {
     "name": "#%%\n"
    }
   },
   "outputs": [],
   "source": []
  },
  {
   "cell_type": "markdown",
   "metadata": {
    "pycharm": {
     "name": "#%% md\n"
    }
   },
   "source": [
    "**(0.5 points)** From the data transformed using the tSNE, perform hierarchical clustering and $K$-means clustering (take the number of clusters equal to 10). Calculate the silhouette and the $V$-score and compare them to corresponding values obtained from the original data."
   ]
  },
  {
   "cell_type": "code",
   "execution_count": null,
   "metadata": {
    "pycharm": {
     "name": "#%%\n"
    }
   },
   "outputs": [],
   "source": []
  },
  {
   "cell_type": "markdown",
   "metadata": {
    "pycharm": {
     "name": "#%% md\n"
    }
   },
   "source": [
    "**(0.25 points)** Choose the best partition (in terms of silhouette or $V$-score) and visualize the centers of clusters with images. Did you managed to make each digit correspond to one center of the cluster?"
   ]
  },
  {
   "cell_type": "code",
   "execution_count": null,
   "metadata": {
    "pycharm": {
     "name": "#%%\n"
    }
   },
   "outputs": [],
   "source": []
  },
  {
   "cell_type": "markdown",
   "metadata": {
    "pycharm": {
     "name": "#%% md\n"
    }
   },
   "source": [
    "## 4. Results and bonus part"
   ]
  },
  {
   "cell_type": "markdown",
   "metadata": {
    "pycharm": {
     "name": "#%% md\n"
    }
   },
   "source": [
    "Write in free form what conclusions you made after completing this assignment. Answer the following questions:\n",
    "\n",
    "**(0.5 points)** Which algorithm gives more meaningful results - hierarchical clustering or $K$- means clustering. Does it depend on the algorithm settings or on the quality evaluation method?"
   ]
  },
  {
   "cell_type": "code",
   "execution_count": null,
   "metadata": {
    "pycharm": {
     "name": "#%%\n"
    }
   },
   "outputs": [],
   "source": []
  },
  {
   "cell_type": "markdown",
   "metadata": {
    "pycharm": {
     "name": "#%% md\n"
    }
   },
   "source": [
    "**(0.5 points)** Imagine the situation where after hierarchical clustering, you need to cluster new data in the same way without retraining the model. Suggest a method how you will do it and how you will measure the quality of clustering of new data."
   ]
  },
  {
   "cell_type": "code",
   "execution_count": null,
   "metadata": {
    "pycharm": {
     "name": "#%%\n"
    }
   },
   "outputs": [],
   "source": []
  },
  {
   "cell_type": "markdown",
   "metadata": {
    "collapsed": true,
    "pycharm": {
     "name": "#%% md\n"
    }
   },
   "source": [
    "**(0.5 points)** Does dimensionality reduction improve clustering results?"
   ]
  },
  {
   "cell_type": "code",
   "execution_count": null,
   "metadata": {
    "pycharm": {
     "name": "#%%\n"
    }
   },
   "outputs": [],
   "source": []
  },
  {
   "cell_type": "markdown",
   "metadata": {
    "pycharm": {
     "name": "#%% md\n"
    }
   },
   "source": [
    "**(0.5 points)** How to evaluate the quality of dimensional reduction? Suggest at least 2 options."
   ]
  },
  {
   "cell_type": "code",
   "execution_count": null,
   "metadata": {
    "pycharm": {
     "name": "#%%\n"
    }
   },
   "outputs": [],
   "source": []
  },
  {
   "cell_type": "markdown",
   "metadata": {
    "pycharm": {
     "name": "#%% md\n"
    }
   },
   "source": [
    "**(Bonus 2 points)** Load the [MNIST Handwritten Digits](http://yann.lecun.com/exdb/mnist) dataset. You can also do it with `scikit-learn` as explained [here](https://stackoverflow.com/a/60450028). Explore the data and try to cluster it using different approaches. Compare results of these approaches using the silhouette and the $V$-score."
   ]
  },
  {
   "cell_type": "code",
   "execution_count": null,
   "metadata": {
    "pycharm": {
     "name": "#%%\n"
    }
   },
   "outputs": [],
   "source": []
  }
 ],
 "metadata": {
  "kernelspec": {
   "display_name": "Python 3 (ipykernel)",
   "language": "python",
   "name": "python3"
  },
  "language_info": {
   "codemirror_mode": {
    "name": "ipython",
    "version": 3
   },
   "file_extension": ".py",
   "mimetype": "text/x-python",
   "name": "python",
   "nbconvert_exporter": "python",
   "pygments_lexer": "ipython3",
   "version": "3.9.7"
  }
 },
 "nbformat": 4,
 "nbformat_minor": 2
}